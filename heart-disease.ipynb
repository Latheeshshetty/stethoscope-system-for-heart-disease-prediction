{
 "cells": [
  {
   "cell_type": "markdown",
   "id": "59d89617",
   "metadata": {},
   "source": [
    "# Stethoscope system for heart disease prediction"
   ]
  },
  {
   "cell_type": "markdown",
   "id": "096f4452",
   "metadata": {},
   "source": [
    "## Importing the required libraries"
   ]
  },
  {
   "cell_type": "code",
   "execution_count": 2,
   "id": "14d1a4ca",
   "metadata": {},
   "outputs": [],
   "source": [
    "import numpy as np\n",
    "import pandas as pd\n",
    "import glob\n",
    "import os\n",
    "import librosa\n",
    "import csv\n",
    "import matplotlib.pyplot as plt"
   ]
  },
  {
   "cell_type": "code",
   "execution_count": 3,
   "id": "719788c0",
   "metadata": {},
   "outputs": [],
   "source": [
    "SAMPLE_RATE = 16000\n",
    "MAX_SOUND_CLIP_DURATION=12"
   ]
  },
  {
   "cell_type": "markdown",
   "id": "8a75e2ab",
   "metadata": {},
   "source": [
    "## Reading the csv files"
   ]
  },
  {
   "cell_type": "code",
   "execution_count": 4,
   "id": "b161e734",
   "metadata": {},
   "outputs": [],
   "source": [
    "set_a=pd.read_csv('C:\\\\Users\\\\dell\\\\audio-data\\\\set_A.csv')"
   ]
  },
  {
   "cell_type": "code",
   "execution_count": 5,
   "id": "311b4035",
   "metadata": {},
   "outputs": [
    {
     "data": {
      "text/html": [
       "<div>\n",
       "<style scoped>\n",
       "    .dataframe tbody tr th:only-of-type {\n",
       "        vertical-align: middle;\n",
       "    }\n",
       "\n",
       "    .dataframe tbody tr th {\n",
       "        vertical-align: top;\n",
       "    }\n",
       "\n",
       "    .dataframe thead th {\n",
       "        text-align: right;\n",
       "    }\n",
       "</style>\n",
       "<table border=\"1\" class=\"dataframe\">\n",
       "  <thead>\n",
       "    <tr style=\"text-align: right;\">\n",
       "      <th></th>\n",
       "      <th>dataset</th>\n",
       "      <th>fname</th>\n",
       "      <th>label</th>\n",
       "      <th>sublabel</th>\n",
       "    </tr>\n",
       "  </thead>\n",
       "  <tbody>\n",
       "    <tr>\n",
       "      <th>0</th>\n",
       "      <td>a</td>\n",
       "      <td>set_a/artifact__201012172012.wav</td>\n",
       "      <td>artifact</td>\n",
       "      <td>NaN</td>\n",
       "    </tr>\n",
       "    <tr>\n",
       "      <th>1</th>\n",
       "      <td>a</td>\n",
       "      <td>set_a/artifact__201105040918.wav</td>\n",
       "      <td>artifact</td>\n",
       "      <td>NaN</td>\n",
       "    </tr>\n",
       "    <tr>\n",
       "      <th>2</th>\n",
       "      <td>a</td>\n",
       "      <td>set_a/artifact__201105041959.wav</td>\n",
       "      <td>artifact</td>\n",
       "      <td>NaN</td>\n",
       "    </tr>\n",
       "    <tr>\n",
       "      <th>3</th>\n",
       "      <td>a</td>\n",
       "      <td>set_a/artifact__201105051017.wav</td>\n",
       "      <td>artifact</td>\n",
       "      <td>NaN</td>\n",
       "    </tr>\n",
       "    <tr>\n",
       "      <th>4</th>\n",
       "      <td>a</td>\n",
       "      <td>set_a/artifact__201105060108.wav</td>\n",
       "      <td>artifact</td>\n",
       "      <td>NaN</td>\n",
       "    </tr>\n",
       "    <tr>\n",
       "      <th>...</th>\n",
       "      <td>...</td>\n",
       "      <td>...</td>\n",
       "      <td>...</td>\n",
       "      <td>...</td>\n",
       "    </tr>\n",
       "    <tr>\n",
       "      <th>100</th>\n",
       "      <td>a</td>\n",
       "      <td>set_a/normal__201106221450.wav</td>\n",
       "      <td>normal</td>\n",
       "      <td>NaN</td>\n",
       "    </tr>\n",
       "    <tr>\n",
       "      <th>101</th>\n",
       "      <td>a</td>\n",
       "      <td>set_a/normal__201108011112.wav</td>\n",
       "      <td>normal</td>\n",
       "      <td>NaN</td>\n",
       "    </tr>\n",
       "    <tr>\n",
       "      <th>102</th>\n",
       "      <td>a</td>\n",
       "      <td>set_a/normal__201108011114.wav</td>\n",
       "      <td>normal</td>\n",
       "      <td>NaN</td>\n",
       "    </tr>\n",
       "    <tr>\n",
       "      <th>103</th>\n",
       "      <td>a</td>\n",
       "      <td>set_a/normal__201108011115.wav</td>\n",
       "      <td>normal</td>\n",
       "      <td>NaN</td>\n",
       "    </tr>\n",
       "    <tr>\n",
       "      <th>104</th>\n",
       "      <td>a</td>\n",
       "      <td>set_a/normal__201108011118.wav</td>\n",
       "      <td>normal</td>\n",
       "      <td>NaN</td>\n",
       "    </tr>\n",
       "  </tbody>\n",
       "</table>\n",
       "<p>105 rows × 4 columns</p>\n",
       "</div>"
      ],
      "text/plain": [
       "    dataset                             fname     label  sublabel\n",
       "0         a  set_a/artifact__201012172012.wav  artifact       NaN\n",
       "1         a  set_a/artifact__201105040918.wav  artifact       NaN\n",
       "2         a  set_a/artifact__201105041959.wav  artifact       NaN\n",
       "3         a  set_a/artifact__201105051017.wav  artifact       NaN\n",
       "4         a  set_a/artifact__201105060108.wav  artifact       NaN\n",
       "..      ...                               ...       ...       ...\n",
       "100       a    set_a/normal__201106221450.wav    normal       NaN\n",
       "101       a    set_a/normal__201108011112.wav    normal       NaN\n",
       "102       a    set_a/normal__201108011114.wav    normal       NaN\n",
       "103       a    set_a/normal__201108011115.wav    normal       NaN\n",
       "104       a    set_a/normal__201108011118.wav    normal       NaN\n",
       "\n",
       "[105 rows x 4 columns]"
      ]
     },
     "execution_count": 5,
     "metadata": {},
     "output_type": "execute_result"
    }
   ],
   "source": [
    "set_a"
   ]
  },
  {
   "cell_type": "code",
   "execution_count": 6,
   "id": "3c23e177",
   "metadata": {},
   "outputs": [],
   "source": [
    "set_b=pd.read_csv('C:\\\\Users\\\\dell\\\\audio-data\\\\set_B.csv')"
   ]
  },
  {
   "cell_type": "code",
   "execution_count": 7,
   "id": "666c4484",
   "metadata": {},
   "outputs": [
    {
     "data": {
      "text/html": [
       "<div>\n",
       "<style scoped>\n",
       "    .dataframe tbody tr th:only-of-type {\n",
       "        vertical-align: middle;\n",
       "    }\n",
       "\n",
       "    .dataframe tbody tr th {\n",
       "        vertical-align: top;\n",
       "    }\n",
       "\n",
       "    .dataframe thead th {\n",
       "        text-align: right;\n",
       "    }\n",
       "</style>\n",
       "<table border=\"1\" class=\"dataframe\">\n",
       "  <thead>\n",
       "    <tr style=\"text-align: right;\">\n",
       "      <th></th>\n",
       "      <th>dataset</th>\n",
       "      <th>fname</th>\n",
       "      <th>label</th>\n",
       "      <th>sublabel</th>\n",
       "    </tr>\n",
       "  </thead>\n",
       "  <tbody>\n",
       "    <tr>\n",
       "      <th>0</th>\n",
       "      <td>b</td>\n",
       "      <td>set_b/Btraining_murmur_112_1306243000964_A.wav</td>\n",
       "      <td>murmur</td>\n",
       "      <td>NaN</td>\n",
       "    </tr>\n",
       "    <tr>\n",
       "      <th>1</th>\n",
       "      <td>b</td>\n",
       "      <td>set_b/Btraining_murmur_112_1306243000964_B.wav</td>\n",
       "      <td>murmur</td>\n",
       "      <td>NaN</td>\n",
       "    </tr>\n",
       "    <tr>\n",
       "      <th>2</th>\n",
       "      <td>b</td>\n",
       "      <td>set_b/Btraining_murmur_112_1306243000964_D.wav</td>\n",
       "      <td>murmur</td>\n",
       "      <td>NaN</td>\n",
       "    </tr>\n",
       "    <tr>\n",
       "      <th>3</th>\n",
       "      <td>b</td>\n",
       "      <td>set_b/Btraining_murmur_116_1306258689913_A.wav</td>\n",
       "      <td>murmur</td>\n",
       "      <td>NaN</td>\n",
       "    </tr>\n",
       "    <tr>\n",
       "      <th>4</th>\n",
       "      <td>b</td>\n",
       "      <td>set_b/Btraining_murmur_116_1306258689913_C.wav</td>\n",
       "      <td>murmur</td>\n",
       "      <td>NaN</td>\n",
       "    </tr>\n",
       "    <tr>\n",
       "      <th>...</th>\n",
       "      <td>...</td>\n",
       "      <td>...</td>\n",
       "      <td>...</td>\n",
       "      <td>...</td>\n",
       "    </tr>\n",
       "    <tr>\n",
       "      <th>410</th>\n",
       "      <td>b</td>\n",
       "      <td>set_b/Btraining_normal_Btraining_noisynormal_2...</td>\n",
       "      <td>normal</td>\n",
       "      <td>noisynormal</td>\n",
       "    </tr>\n",
       "    <tr>\n",
       "      <th>411</th>\n",
       "      <td>b</td>\n",
       "      <td>set_b/Btraining_normal_Btraining_noisynormal_2...</td>\n",
       "      <td>normal</td>\n",
       "      <td>noisynormal</td>\n",
       "    </tr>\n",
       "    <tr>\n",
       "      <th>412</th>\n",
       "      <td>b</td>\n",
       "      <td>set_b/Btraining_normal_Btraining_noisynormal_2...</td>\n",
       "      <td>normal</td>\n",
       "      <td>noisynormal</td>\n",
       "    </tr>\n",
       "    <tr>\n",
       "      <th>413</th>\n",
       "      <td>b</td>\n",
       "      <td>set_b/Btraining_normal_Btraining_noisynormal_2...</td>\n",
       "      <td>normal</td>\n",
       "      <td>noisynormal</td>\n",
       "    </tr>\n",
       "    <tr>\n",
       "      <th>414</th>\n",
       "      <td>b</td>\n",
       "      <td>set_b/Btraining_normal_Btraining_noisynormal_2...</td>\n",
       "      <td>normal</td>\n",
       "      <td>noisynormal</td>\n",
       "    </tr>\n",
       "  </tbody>\n",
       "</table>\n",
       "<p>415 rows × 4 columns</p>\n",
       "</div>"
      ],
      "text/plain": [
       "    dataset                                              fname   label  \\\n",
       "0         b     set_b/Btraining_murmur_112_1306243000964_A.wav  murmur   \n",
       "1         b     set_b/Btraining_murmur_112_1306243000964_B.wav  murmur   \n",
       "2         b     set_b/Btraining_murmur_112_1306243000964_D.wav  murmur   \n",
       "3         b     set_b/Btraining_murmur_116_1306258689913_A.wav  murmur   \n",
       "4         b     set_b/Btraining_murmur_116_1306258689913_C.wav  murmur   \n",
       "..      ...                                                ...     ...   \n",
       "410       b  set_b/Btraining_normal_Btraining_noisynormal_2...  normal   \n",
       "411       b  set_b/Btraining_normal_Btraining_noisynormal_2...  normal   \n",
       "412       b  set_b/Btraining_normal_Btraining_noisynormal_2...  normal   \n",
       "413       b  set_b/Btraining_normal_Btraining_noisynormal_2...  normal   \n",
       "414       b  set_b/Btraining_normal_Btraining_noisynormal_2...  normal   \n",
       "\n",
       "        sublabel  \n",
       "0            NaN  \n",
       "1            NaN  \n",
       "2            NaN  \n",
       "3            NaN  \n",
       "4            NaN  \n",
       "..           ...  \n",
       "410  noisynormal  \n",
       "411  noisynormal  \n",
       "412  noisynormal  \n",
       "413  noisynormal  \n",
       "414  noisynormal  \n",
       "\n",
       "[415 rows x 4 columns]"
      ]
     },
     "execution_count": 7,
     "metadata": {},
     "output_type": "execute_result"
    }
   ],
   "source": [
    "set_b"
   ]
  },
  {
   "cell_type": "markdown",
   "id": "bad09d5e",
   "metadata": {},
   "source": [
    "## combining both the datasets"
   ]
  },
  {
   "cell_type": "code",
   "execution_count": 8,
   "id": "6f019f12",
   "metadata": {},
   "outputs": [],
   "source": [
    "data_ab=pd.concat([set_a,set_b])"
   ]
  },
  {
   "cell_type": "code",
   "execution_count": 9,
   "id": "335fb0d1",
   "metadata": {},
   "outputs": [
    {
     "data": {
      "text/plain": [
       "(105, 4)"
      ]
     },
     "execution_count": 9,
     "metadata": {},
     "output_type": "execute_result"
    }
   ],
   "source": [
    "set_a.shape"
   ]
  },
  {
   "cell_type": "code",
   "execution_count": 10,
   "id": "4b4286d4",
   "metadata": {},
   "outputs": [
    {
     "data": {
      "text/plain": [
       "(415, 4)"
      ]
     },
     "execution_count": 10,
     "metadata": {},
     "output_type": "execute_result"
    }
   ],
   "source": [
    "set_b.shape"
   ]
  },
  {
   "cell_type": "code",
   "execution_count": 11,
   "id": "f66b3ee8",
   "metadata": {},
   "outputs": [
    {
     "data": {
      "text/plain": [
       "(520, 4)"
      ]
     },
     "execution_count": 11,
     "metadata": {},
     "output_type": "execute_result"
    }
   ],
   "source": [
    "data_ab.shape"
   ]
  },
  {
   "cell_type": "markdown",
   "id": "6ab1c300",
   "metadata": {},
   "source": [
    "## Number of heart sound in each class"
   ]
  },
  {
   "cell_type": "code",
   "execution_count": 12,
   "id": "e344f243",
   "metadata": {},
   "outputs": [
    {
     "data": {
      "text/plain": [
       "normal      351\n",
       "murmur      129\n",
       "artifact     40\n",
       "Name: label, dtype: int64"
      ]
     },
     "execution_count": 12,
     "metadata": {},
     "output_type": "execute_result"
    }
   ],
   "source": [
    "data_ab['label'].value_counts()"
   ]
  },
  {
   "cell_type": "code",
   "execution_count": 13,
   "id": "0d1b3fe8",
   "metadata": {},
   "outputs": [],
   "source": [
    "left=[1,2,3]\n",
    "class_label=['normal','murmur','artifact']\n",
    "class_counts=pd.unique(data_ab['label'].value_counts())"
   ]
  },
  {
   "cell_type": "code",
   "execution_count": 14,
   "id": "2e661a87",
   "metadata": {},
   "outputs": [
    {
     "data": {
      "text/plain": [
       "<BarContainer object of 3 artists>"
      ]
     },
     "execution_count": 14,
     "metadata": {},
     "output_type": "execute_result"
    },
    {
     "data": {
      "image/png": "[encoded data removed]",
      "text/plain": [
       "<Figure size 432x288 with 1 Axes>"
      ]
     },
     "metadata": {
      "needs_background": "light"
     },
     "output_type": "display_data"
    }
   ],
   "source": [
    "plt.bar(left,class_counts,tick_label=class_label,width=0.6,color=['red', 'green','blue'])"
   ]
  },
  {
   "cell_type": "code",
   "execution_count": 15,
   "id": "98db4b26",
   "metadata": {},
   "outputs": [
    {
     "name": "stdout",
     "output_type": "stream",
     "text": [
      "Number of training samples: 520 Number of classes: 3\n"
     ]
    }
   ],
   "source": [
    "print(\"Number of training samples:\",len(data_ab),\"Number of classes:\",len(class_label))"
   ]
  },
  {
   "cell_type": "markdown",
   "id": "8461b083",
   "metadata": {},
   "source": [
    "## Feature extraction"
   ]
  },
  {
   "cell_type": "code",
   "execution_count": 16,
   "id": "c6e64ee0",
   "metadata": {},
   "outputs": [],
   "source": [
    "def audio_norm(data):\n",
    "    max_data = np.max(data)\n",
    "    min_data = np.min(data)\n",
    "    data = (data-min_data)/(max_data-min_data+0.0001)\n",
    "    return data-0.5"
   ]
  },
  {
   "cell_type": "code",
   "execution_count": 17,
   "id": "4543a02b",
   "metadata": {},
   "outputs": [],
   "source": [
    "# get audio data with a fix padding may also chop off some file\n",
    "def load_file_data (folder,file_names, duration=12, sr=16000):\n",
    "    input_length=sr*duration\n",
    "    # function to load files and extract features\n",
    "    # file_names = glob.glob(os.path.join(folder, '*.wav'))\n",
    "    data = []\n",
    "    for file_name in file_names:\n",
    "        try:\n",
    "            sound_file=folder+file_name\n",
    "            print (\"load file \",sound_file)\n",
    "            # use kaiser_fast technique for faster extraction\n",
    "            X, sr = librosa.load( sound_file, sr=sr, duration=duration,res_type='kaiser_fast') \n",
    "            dur = librosa.get_duration(y=X, sr=sr)\n",
    "            # pad audio file same duration\n",
    "            if (round(dur) < duration):\n",
    "                print (\"fixing audio lenght :\", file_name)\n",
    "                y = librosa.util.fix_length(X, input_length)                \n",
    "            #normalized raw audio \n",
    "            y = audio_norm(y)            \n",
    "            # extract normalized mfcc feature from data\n",
    "            mfccs = np.mean(librosa.feature.mfcc(y=X, sr=sr, n_mfcc=40).T,axis=0)             \n",
    "        except Exception as e:\n",
    "            print(\"Error encountered while parsing file: \",file)        \n",
    "        feature = np.array(mfccs).reshape([-1,1])\n",
    "        data.append(feature)\n",
    "    return data"
   ]
  },
  {
   "cell_type": "code",
   "execution_count": 18,
   "id": "9e50ec34",
   "metadata": {},
   "outputs": [
    {
     "name": "stdout",
     "output_type": "stream",
     "text": [
      "{'artifact': 0, 'murmur': 1, 'normal': 2}\n",
      " \n",
      "{0: 'artifact', 1: 'murmur', 2: 'normal'}\n"
     ]
    }
   ],
   "source": [
    "# simple encoding of categories, limited to 3 types\n",
    "from sklearn.model_selection import train_test_split\n",
    "from sklearn import preprocessing\n",
    "\n",
    "# Map label text to integer\n",
    "CLASSES = ['artifact','murmur','normal']\n",
    "# {'artifact': 0, 'murmur': 1, 'normal': 3}\n",
    "NB_CLASSES=len(CLASSES)\n",
    "\n",
    "# Map integer value to text labels\n",
    "label_to_int = {k:v for v,k in enumerate(CLASSES)}\n",
    "print (label_to_int)\n",
    "print (\" \")\n",
    "# map integer to label text\n",
    "int_to_label = {v:k for k,v in label_to_int.items()}\n",
    "print(int_to_label)"
   ]
  },
  {
   "cell_type": "markdown",
   "id": "4760b0ad",
   "metadata": {},
   "source": [
    "## Loading the set-a and set-b datasets"
   ]
  },
  {
   "cell_type": "code",
   "execution_count": 19,
   "id": "69744425",
   "metadata": {},
   "outputs": [],
   "source": [
    "import os, fnmatch"
   ]
  },
  {
   "cell_type": "code",
   "execution_count": 44,
   "id": "cd099880",
   "metadata": {},
   "outputs": [
    {
     "name": "stdout",
     "output_type": "stream",
     "text": [
      "load file  C:\\Users\\dell\\audio-data\\set-a\\artifact__201012172012.wav\n",
      "fixing audio lenght : artifact__201012172012.wav\n",
      "load file  C:\\Users\\dell\\audio-data\\set-a\\artifact__201105040918.wav\n"
     ]
    },
    {
     "name": "stderr",
     "output_type": "stream",
     "text": [
      "C:\\Users\\dell\\AppData\\Local\\Temp\\ipykernel_10400\\3315501693.py:17: FutureWarning: Pass size=192000 as keyword args. From version 0.10 passing these as positional arguments will result in an error\n",
      "  y = librosa.util.fix_length(X, input_length)\n"
     ]
    },
    {
     "name": "stdout",
     "output_type": "stream",
     "text": [
      "fixing audio lenght : artifact__201105040918.wav\n",
      "load file  C:\\Users\\dell\\audio-data\\set-a\\artifact__201105041959.wav\n",
      "fixing audio lenght : artifact__201105041959.wav\n",
      "load file  C:\\Users\\dell\\audio-data\\set-a\\artifact__201105051017.wav\n",
      "fixing audio lenght : artifact__201105051017.wav\n",
      "load file  C:\\Users\\dell\\audio-data\\set-a\\artifact__201105060108.wav\n",
      "fixing audio lenght : artifact__201105060108.wav\n",
      "load file  C:\\Users\\dell\\audio-data\\set-a\\artifact__201105061143.wav\n",
      "fixing audio lenght : artifact__201105061143.wav\n",
      "load file  C:\\Users\\dell\\audio-data\\set-a\\artifact__201105190800.wav\n",
      "fixing audio lenght : artifact__201105190800.wav\n",
      "load file  C:\\Users\\dell\\audio-data\\set-a\\artifact__201105280851.wav\n",
      "fixing audio lenght : artifact__201105280851.wav\n",
      "load file  C:\\Users\\dell\\audio-data\\set-a\\artifact__201106010559.wav\n",
      "fixing audio lenght : artifact__201106010559.wav\n",
      "load file  C:\\Users\\dell\\audio-data\\set-a\\artifact__201106010602.wav\n",
      "fixing audio lenght : artifact__201106010602.wav\n",
      "load file  C:\\Users\\dell\\audio-data\\set-a\\artifact__201106021541.wav\n",
      "fixing audio lenght : artifact__201106021541.wav\n",
      "load file  C:\\Users\\dell\\audio-data\\set-a\\artifact__201106030612.wav\n",
      "fixing audio lenght : artifact__201106030612.wav\n",
      "load file  C:\\Users\\dell\\audio-data\\set-a\\artifact__201106031558.wav\n",
      "fixing audio lenght : artifact__201106031558.wav\n",
      "load file  C:\\Users\\dell\\audio-data\\set-a\\artifact__201106040722.wav\n",
      "fixing audio lenght : artifact__201106040722.wav\n",
      "load file  C:\\Users\\dell\\audio-data\\set-a\\artifact__201106040933.wav\n",
      "fixing audio lenght : artifact__201106040933.wav\n",
      "load file  C:\\Users\\dell\\audio-data\\set-a\\artifact__201106040947.wav\n",
      "fixing audio lenght : artifact__201106040947.wav\n",
      "load file  C:\\Users\\dell\\audio-data\\set-a\\artifact__201106041452.wav\n",
      "fixing audio lenght : artifact__201106041452.wav\n",
      "load file  C:\\Users\\dell\\audio-data\\set-a\\artifact__201106050353.wav\n",
      "fixing audio lenght : artifact__201106050353.wav\n",
      "load file  C:\\Users\\dell\\audio-data\\set-a\\artifact__201106061233.wav\n",
      "fixing audio lenght : artifact__201106061233.wav\n",
      "load file  C:\\Users\\dell\\audio-data\\set-a\\artifact__201106070537.wav\n",
      "fixing audio lenght : artifact__201106070537.wav\n",
      "load file  C:\\Users\\dell\\audio-data\\set-a\\artifact__201106070949.wav\n",
      "fixing audio lenght : artifact__201106070949.wav\n",
      "load file  C:\\Users\\dell\\audio-data\\set-a\\artifact__201106101314.wav\n",
      "fixing audio lenght : artifact__201106101314.wav\n",
      "load file  C:\\Users\\dell\\audio-data\\set-a\\artifact__201106101955.wav\n",
      "fixing audio lenght : artifact__201106101955.wav\n",
      "load file  C:\\Users\\dell\\audio-data\\set-a\\artifact__201106110909.wav\n",
      "fixing audio lenght : artifact__201106110909.wav\n",
      "load file  C:\\Users\\dell\\audio-data\\set-a\\artifact__201106111119.wav\n",
      "fixing audio lenght : artifact__201106111119.wav\n",
      "load file  C:\\Users\\dell\\audio-data\\set-a\\artifact__201106121242.wav\n",
      "fixing audio lenght : artifact__201106121242.wav\n",
      "load file  C:\\Users\\dell\\audio-data\\set-a\\artifact__201106121445.wav\n",
      "fixing audio lenght : artifact__201106121445.wav\n",
      "load file  C:\\Users\\dell\\audio-data\\set-a\\artifact__201106131834.wav\n",
      "fixing audio lenght : artifact__201106131834.wav\n",
      "load file  C:\\Users\\dell\\audio-data\\set-a\\artifact__201106131835.wav\n",
      "fixing audio lenght : artifact__201106131835.wav\n",
      "load file  C:\\Users\\dell\\audio-data\\set-a\\artifact__201106141701.wav\n",
      "fixing audio lenght : artifact__201106141701.wav\n",
      "load file  C:\\Users\\dell\\audio-data\\set-a\\artifact__201106161016.wav\n",
      "fixing audio lenght : artifact__201106161016.wav\n",
      "load file  C:\\Users\\dell\\audio-data\\set-a\\artifact__201106161019.wav\n",
      "fixing audio lenght : artifact__201106161019.wav\n",
      "load file  C:\\Users\\dell\\audio-data\\set-a\\artifact__201106161219.wav\n",
      "fixing audio lenght : artifact__201106161219.wav\n",
      "load file  C:\\Users\\dell\\audio-data\\set-a\\artifact__201106171003.wav\n",
      "fixing audio lenght : artifact__201106171003.wav\n",
      "load file  C:\\Users\\dell\\audio-data\\set-a\\artifact__201106190520.wav\n",
      "fixing audio lenght : artifact__201106190520.wav\n",
      "load file  C:\\Users\\dell\\audio-data\\set-a\\artifact__201106211041.wav\n",
      "fixing audio lenght : artifact__201106211041.wav\n",
      "load file  C:\\Users\\dell\\audio-data\\set-a\\artifact__201106211430.wav\n",
      "fixing audio lenght : artifact__201106211430.wav\n",
      "load file  C:\\Users\\dell\\audio-data\\set-a\\artifact__201106212112.wav\n",
      "fixing audio lenght : artifact__201106212112.wav\n",
      "load file  C:\\Users\\dell\\audio-data\\set-a\\artifact__201106220340.wav\n",
      "fixing audio lenght : artifact__201106220340.wav\n",
      "load file  C:\\Users\\dell\\audio-data\\set-a\\artifact__201106221254.wav\n",
      "fixing audio lenght : artifact__201106221254.wav\n",
      "load file  C:\\Users\\dell\\audio-data\\set-a\\normal__201101070538.wav\n",
      "fixing audio lenght : normal__201101070538.wav\n",
      "load file  C:\\Users\\dell\\audio-data\\set-a\\normal__201101151127.wav\n",
      "fixing audio lenght : normal__201101151127.wav\n",
      "load file  C:\\Users\\dell\\audio-data\\set-a\\normal__201102081152.wav\n",
      "fixing audio lenght : normal__201102081152.wav\n",
      "load file  C:\\Users\\dell\\audio-data\\set-a\\normal__201102081321.wav\n",
      "fixing audio lenght : normal__201102081321.wav\n",
      "load file  C:\\Users\\dell\\audio-data\\set-a\\normal__201102201230.wav\n",
      "fixing audio lenght : normal__201102201230.wav\n",
      "load file  C:\\Users\\dell\\audio-data\\set-a\\normal__201102260502.wav\n",
      "fixing audio lenght : normal__201102260502.wav\n",
      "load file  C:\\Users\\dell\\audio-data\\set-a\\normal__201102270940.wav\n",
      "fixing audio lenght : normal__201102270940.wav\n",
      "load file  C:\\Users\\dell\\audio-data\\set-a\\normal__201103090635.wav\n",
      "fixing audio lenght : normal__201103090635.wav\n",
      "load file  C:\\Users\\dell\\audio-data\\set-a\\normal__201103101140.wav\n",
      "fixing audio lenght : normal__201103101140.wav\n",
      "load file  C:\\Users\\dell\\audio-data\\set-a\\normal__201103140132.wav\n",
      "fixing audio lenght : normal__201103140132.wav\n",
      "load file  C:\\Users\\dell\\audio-data\\set-a\\normal__201103140135.wav\n",
      "fixing audio lenght : normal__201103140135.wav\n",
      "load file  C:\\Users\\dell\\audio-data\\set-a\\normal__201103140822.wav\n",
      "fixing audio lenght : normal__201103140822.wav\n",
      "load file  C:\\Users\\dell\\audio-data\\set-a\\normal__201103151912.wav\n",
      "fixing audio lenght : normal__201103151912.wav\n",
      "load file  C:\\Users\\dell\\audio-data\\set-a\\normal__201103170121.wav\n",
      "fixing audio lenght : normal__201103170121.wav\n",
      "load file  C:\\Users\\dell\\audio-data\\set-a\\normal__201103221214.wav\n",
      "fixing audio lenght : normal__201103221214.wav\n",
      "load file  C:\\Users\\dell\\audio-data\\set-a\\normal__201104122156.wav\n",
      "fixing audio lenght : normal__201104122156.wav\n",
      "load file  C:\\Users\\dell\\audio-data\\set-a\\normal__201104141251.wav\n",
      "fixing audio lenght : normal__201104141251.wav\n",
      "load file  C:\\Users\\dell\\audio-data\\set-a\\normal__201105011626.wav\n",
      "fixing audio lenght : normal__201105011626.wav\n",
      "load file  C:\\Users\\dell\\audio-data\\set-a\\normal__201105021654.wav\n",
      "fixing audio lenght : normal__201105021654.wav\n",
      "load file  C:\\Users\\dell\\audio-data\\set-a\\normal__201105021804.wav\n",
      "fixing audio lenght : normal__201105021804.wav\n",
      "load file  C:\\Users\\dell\\audio-data\\set-a\\normal__201105151450.wav\n",
      "fixing audio lenght : normal__201105151450.wav\n",
      "load file  C:\\Users\\dell\\audio-data\\set-a\\normal__201106111136.wav\n",
      "fixing audio lenght : normal__201106111136.wav\n",
      "load file  C:\\Users\\dell\\audio-data\\set-a\\normal__201106141148.wav\n",
      "fixing audio lenght : normal__201106141148.wav\n",
      "load file  C:\\Users\\dell\\audio-data\\set-a\\normal__201106151236.wav\n",
      "fixing audio lenght : normal__201106151236.wav\n",
      "load file  C:\\Users\\dell\\audio-data\\set-a\\normal__201106210943.wav\n",
      "fixing audio lenght : normal__201106210943.wav\n",
      "load file  C:\\Users\\dell\\audio-data\\set-a\\normal__201106221418.wav\n",
      "fixing audio lenght : normal__201106221418.wav\n",
      "load file  C:\\Users\\dell\\audio-data\\set-a\\normal__201106221450.wav\n",
      "fixing audio lenght : normal__201106221450.wav\n",
      "load file  C:\\Users\\dell\\audio-data\\set-a\\normal__201108011112.wav\n",
      "fixing audio lenght : normal__201108011112.wav\n",
      "load file  C:\\Users\\dell\\audio-data\\set-a\\normal__201108011114.wav\n",
      "fixing audio lenght : normal__201108011114.wav\n",
      "load file  C:\\Users\\dell\\audio-data\\set-a\\normal__201108011115.wav\n",
      "fixing audio lenght : normal__201108011115.wav\n",
      "load file  C:\\Users\\dell\\audio-data\\set-a\\normal__201108011118.wav\n",
      "fixing audio lenght : normal__201108011118.wav\n",
      "load file  C:\\Users\\dell\\audio-data\\set-a\\murmur__201101051104.wav\n",
      "fixing audio lenght : murmur__201101051104.wav\n",
      "load file  C:\\Users\\dell\\audio-data\\set-a\\murmur__201101051108.wav\n",
      "fixing audio lenght : murmur__201101051108.wav\n",
      "load file  C:\\Users\\dell\\audio-data\\set-a\\murmur__201101051114.wav\n",
      "fixing audio lenght : murmur__201101051114.wav\n",
      "load file  C:\\Users\\dell\\audio-data\\set-a\\murmur__201101180902.wav\n",
      "fixing audio lenght : murmur__201101180902.wav\n",
      "load file  C:\\Users\\dell\\audio-data\\set-a\\murmur__201102051443.wav\n",
      "fixing audio lenght : murmur__201102051443.wav\n",
      "load file  C:\\Users\\dell\\audio-data\\set-a\\murmur__201102052338.wav\n",
      "fixing audio lenght : murmur__201102052338.wav\n",
      "load file  C:\\Users\\dell\\audio-data\\set-a\\murmur__201103291548.wav\n",
      "fixing audio lenght : murmur__201103291548.wav\n",
      "load file  C:\\Users\\dell\\audio-data\\set-a\\murmur__201104021355.wav\n",
      "fixing audio lenght : murmur__201104021355.wav\n",
      "load file  C:\\Users\\dell\\audio-data\\set-a\\murmur__201104241315.wav\n",
      "fixing audio lenght : murmur__201104241315.wav\n",
      "load file  C:\\Users\\dell\\audio-data\\set-a\\murmur__201104291843.wav\n",
      "fixing audio lenght : murmur__201104291843.wav\n",
      "load file  C:\\Users\\dell\\audio-data\\set-a\\murmur__201106141148.wav\n",
      "fixing audio lenght : murmur__201106141148.wav\n",
      "load file  C:\\Users\\dell\\audio-data\\set-a\\murmur__201108222221.wav\n",
      "fixing audio lenght : murmur__201108222221.wav\n",
      "load file  C:\\Users\\dell\\audio-data\\set-a\\murmur__201108222223.wav\n",
      "fixing audio lenght : murmur__201108222223.wav\n",
      "load file  C:\\Users\\dell\\audio-data\\set-a\\murmur__201108222224.wav\n",
      "fixing audio lenght : murmur__201108222224.wav\n",
      "load file  C:\\Users\\dell\\audio-data\\set-a\\murmur__201108222226.wav\n",
      "fixing audio lenght : murmur__201108222226.wav\n",
      "load file  C:\\Users\\dell\\audio-data\\set-a\\murmur__201108222227.wav\n",
      "fixing audio lenght : murmur__201108222227.wav\n",
      "load file  C:\\Users\\dell\\audio-data\\set-a\\murmur__201108222231.wav\n",
      "fixing audio lenght : murmur__201108222231.wav\n",
      "load file  C:\\Users\\dell\\audio-data\\set-a\\murmur__201108222232.wav\n",
      "fixing audio lenght : murmur__201108222232.wav\n",
      "load file  C:\\Users\\dell\\audio-data\\set-a\\murmur__201108222233.wav\n",
      "fixing audio lenght : murmur__201108222233.wav\n",
      "load file  C:\\Users\\dell\\audio-data\\set-a\\murmur__201108222235.wav\n",
      "fixing audio lenght : murmur__201108222235.wav\n",
      "load file  C:\\Users\\dell\\audio-data\\set-a\\murmur__201108222236.wav\n",
      "fixing audio lenght : murmur__201108222236.wav\n",
      "load file  C:\\Users\\dell\\audio-data\\set-a\\murmur__201108222237.wav\n",
      "fixing audio lenght : murmur__201108222237.wav\n",
      "load file  C:\\Users\\dell\\audio-data\\set-a\\murmur__201108222238.wav\n",
      "fixing audio lenght : murmur__201108222238.wav\n",
      "load file  C:\\Users\\dell\\audio-data\\set-a\\murmur__201108222242.wav\n",
      "fixing audio lenght : murmur__201108222242.wav\n",
      "load file  C:\\Users\\dell\\audio-data\\set-a\\murmur__201108222243.wav\n",
      "fixing audio lenght : murmur__201108222243.wav\n",
      "load file  C:\\Users\\dell\\audio-data\\set-a\\murmur__201108222245.wav\n",
      "fixing audio lenght : murmur__201108222245.wav\n",
      "load file  C:\\Users\\dell\\audio-data\\set-a\\murmur__201108222246.wav\n",
      "fixing audio lenght : murmur__201108222246.wav\n",
      "load file  C:\\Users\\dell\\audio-data\\set-a\\murmur__201108222248.wav\n",
      "fixing audio lenght : murmur__201108222248.wav\n",
      "load file  C:\\Users\\dell\\audio-data\\set-a\\murmur__201108222251.wav\n",
      "fixing audio lenght : murmur__201108222251.wav\n",
      "load file  C:\\Users\\dell\\audio-data\\set-a\\murmur__201108222252.wav\n",
      "fixing audio lenght : murmur__201108222252.wav\n",
      "load file  C:\\Users\\dell\\audio-data\\set-a\\murmur__201108222253.wav\n",
      "fixing audio lenght : murmur__201108222253.wav\n",
      "load file  C:\\Users\\dell\\audio-data\\set-a\\murmur__201108222255.wav\n",
      "fixing audio lenght : murmur__201108222255.wav\n",
      "load file  C:\\Users\\dell\\audio-data\\set-a\\murmur__201108222256.wav\n",
      "fixing audio lenght : murmur__201108222256.wav\n",
      "load file  C:\\Users\\dell\\audio-data\\set-a\\murmur__201108222258.wav\n",
      "fixing audio lenght : murmur__201108222258.wav\n",
      "loaded dataset-a\n",
      "load file  C:\\Users\\dell\\audio-data\\set-b\\normal_noisynormal_101_1305030823364_B.wav\n",
      "fixing audio lenght : normal_noisynormal_101_1305030823364_B.wav\n",
      "load file  C:\\Users\\dell\\audio-data\\set-b\\normal_noisynormal_101_1305030823364_E.wav\n",
      "fixing audio lenght : normal_noisynormal_101_1305030823364_E.wav\n",
      "load file  C:\\Users\\dell\\audio-data\\set-b\\normal_noisynormal_104_1305032492469_A.wav\n",
      "fixing audio lenght : normal_noisynormal_104_1305032492469_A.wav\n",
      "load file  C:\\Users\\dell\\audio-data\\set-b\\normal_noisynormal_105_1305033453095_A.wav\n",
      "fixing audio lenght : normal_noisynormal_105_1305033453095_A.wav\n",
      "load file  C:\\Users\\dell\\audio-data\\set-b\\normal_noisynormal_105_1305033453095_C.wav\n",
      "fixing audio lenght : normal_noisynormal_105_1305033453095_C.wav\n",
      "load file  C:\\Users\\dell\\audio-data\\set-b\\normal_noisynormal_106_1306776721273_A.wav\n",
      "fixing audio lenght : normal_noisynormal_106_1306776721273_A.wav\n",
      "load file  C:\\Users\\dell\\audio-data\\set-b\\normal_noisynormal_107_1305654946865_A.wav\n",
      "fixing audio lenght : normal_noisynormal_107_1305654946865_A.wav\n",
      "load file  C:\\Users\\dell\\audio-data\\set-b\\normal_noisynormal_108_1305654420093_A.wav\n",
      "fixing audio lenght : normal_noisynormal_108_1305654420093_A.wav\n",
      "load file  C:\\Users\\dell\\audio-data\\set-b\\normal_noisynormal_108_1305654420093_B.wav\n",
      "load file  C:\\Users\\dell\\audio-data\\set-b\\normal_noisynormal_109_1305653646620_A.wav\n",
      "load file  C:\\Users\\dell\\audio-data\\set-b\\normal_noisynormal_109_1305653972028_A.wav\n",
      "fixing audio lenght : normal_noisynormal_109_1305653972028_A.wav\n",
      "load file  C:\\Users\\dell\\audio-data\\set-b\\normal_noisynormal_109_1305653972028_C.wav\n",
      "fixing audio lenght : normal_noisynormal_109_1305653972028_C.wav\n",
      "load file  C:\\Users\\dell\\audio-data\\set-b\\normal_noisynormal_109_1305653972028_E.wav\n",
      "fixing audio lenght : normal_noisynormal_109_1305653972028_E.wav\n",
      "load file  C:\\Users\\dell\\audio-data\\set-b\\normal_noisynormal_109_1305653972028_F.wav\n",
      "fixing audio lenght : normal_noisynormal_109_1305653972028_F.wav\n",
      "load file  C:\\Users\\dell\\audio-data\\set-b\\normal_noisynormal_110_1305655332337_A.wav\n",
      "fixing audio lenght : normal_noisynormal_110_1305655332337_A.wav\n",
      "load file  C:\\Users\\dell\\audio-data\\set-b\\normal_noisynormal_110_1305655332337_B.wav\n",
      "fixing audio lenght : normal_noisynormal_110_1305655332337_B.wav\n",
      "load file  C:\\Users\\dell\\audio-data\\set-b\\normal_noisynormal_113_1306244002866_A.wav\n",
      "fixing audio lenght : normal_noisynormal_113_1306244002866_A.wav\n",
      "load file  C:\\Users\\dell\\audio-data\\set-b\\normal_noisynormal_113_1306244002866_B.wav\n",
      "fixing audio lenght : normal_noisynormal_113_1306244002866_B.wav\n",
      "load file  C:\\Users\\dell\\audio-data\\set-b\\normal_noisynormal_115_1306259437619_A1.wav\n",
      "fixing audio lenght : normal_noisynormal_115_1306259437619_A1.wav\n",
      "load file  C:\\Users\\dell\\audio-data\\set-b\\normal_noisynormal_115_1306259437619_B.wav\n",
      "fixing audio lenght : normal_noisynormal_115_1306259437619_B.wav\n",
      "load file  C:\\Users\\dell\\audio-data\\set-b\\normal_noisynormal_117_1306262456650_A.wav\n",
      "load file  C:\\Users\\dell\\audio-data\\set-b\\normal_noisynormal_117_1306262456650_C.wav\n",
      "fixing audio lenght : normal_noisynormal_117_1306262456650_C.wav\n",
      "load file  C:\\Users\\dell\\audio-data\\set-b\\normal_noisynormal_117_1306262456650_D.wav\n",
      "fixing audio lenght : normal_noisynormal_117_1306262456650_D.wav\n",
      "load file  C:\\Users\\dell\\audio-data\\set-b\\normal_noisynormal_118_1306262335509_B.wav\n",
      "fixing audio lenght : normal_noisynormal_118_1306262335509_B.wav\n",
      "load file  C:\\Users\\dell\\audio-data\\set-b\\normal_noisynormal_118_1306262335509_C1.wav\n",
      "fixing audio lenght : normal_noisynormal_118_1306262335509_C1.wav\n",
      "load file  C:\\Users\\dell\\audio-data\\set-b\\normal_noisynormal_118_1306262335509_D.wav\n",
      "load file  C:\\Users\\dell\\audio-data\\set-b\\normal_noisynormal_121_1306263877235_A.wav\n",
      "load file  C:\\Users\\dell\\audio-data\\set-b\\normal_noisynormal_121_1306263877235_C.wav\n",
      "load file  C:\\Users\\dell\\audio-data\\set-b\\normal_noisynormal_121_1306263877235_D.wav\n",
      "fixing audio lenght : normal_noisynormal_121_1306263877235_D.wav\n",
      "load file  C:\\Users\\dell\\audio-data\\set-b\\normal_noisynormal_123_1306331925797_B.wav\n",
      "load file  C:\\Users\\dell\\audio-data\\set-b\\normal_noisynormal_123_1306331925797_C.wav\n",
      "fixing audio lenght : normal_noisynormal_123_1306331925797_C.wav\n",
      "load file  C:\\Users\\dell\\audio-data\\set-b\\normal_noisynormal_125_1306332456645_A1.wav\n",
      "fixing audio lenght : normal_noisynormal_125_1306332456645_A1.wav\n",
      "load file  C:\\Users\\dell\\audio-data\\set-b\\normal_noisynormal_125_1306332456645_A2.wav\n",
      "fixing audio lenght : normal_noisynormal_125_1306332456645_A2.wav\n",
      "load file  C:\\Users\\dell\\audio-data\\set-b\\normal_noisynormal_125_1306332456645_B1.wav\n",
      "fixing audio lenght : normal_noisynormal_125_1306332456645_B1.wav\n",
      "load file  C:\\Users\\dell\\audio-data\\set-b\\normal_noisynormal_125_1306332456645_C.wav\n",
      "fixing audio lenght : normal_noisynormal_125_1306332456645_C.wav\n",
      "load file  C:\\Users\\dell\\audio-data\\set-b\\normal_noisynormal_125_1306332456645_D.wav\n",
      "fixing audio lenght : normal_noisynormal_125_1306332456645_D.wav\n",
      "load file  C:\\Users\\dell\\audio-data\\set-b\\normal_noisynormal_127_1306764300147_D1.wav\n",
      "fixing audio lenght : normal_noisynormal_127_1306764300147_D1.wav\n",
      "load file  C:\\Users\\dell\\audio-data\\set-b\\normal_noisynormal_129_1306344506305_A.wav\n",
      "fixing audio lenght : normal_noisynormal_129_1306344506305_A.wav\n",
      "load file  C:\\Users\\dell\\audio-data\\set-b\\normal_noisynormal_129_1306344506305_C.wav\n",
      "fixing audio lenght : normal_noisynormal_129_1306344506305_C.wav\n",
      "load file  C:\\Users\\dell\\audio-data\\set-b\\normal_noisynormal_130_1306347376079_B.wav\n",
      "fixing audio lenght : normal_noisynormal_130_1306347376079_B.wav\n",
      "load file  C:\\Users\\dell\\audio-data\\set-b\\normal_noisynormal_130_1306347376079_C.wav\n",
      "load file  C:\\Users\\dell\\audio-data\\set-b\\normal_noisynormal_132_1306758754432_B1.wav\n",
      "fixing audio lenght : normal_noisynormal_132_1306758754432_B1.wav\n",
      "load file  C:\\Users\\dell\\audio-data\\set-b\\normal_noisynormal_132_1306758754432_C.wav\n",
      "fixing audio lenght : normal_noisynormal_132_1306758754432_C.wav\n",
      "load file  C:\\Users\\dell\\audio-data\\set-b\\normal_noisynormal_133_1306759619127_A1.wav\n",
      "fixing audio lenght : normal_noisynormal_133_1306759619127_A1.wav\n",
      "load file  C:\\Users\\dell\\audio-data\\set-b\\normal_noisynormal_133_1306759619127_B1.wav\n",
      "fixing audio lenght : normal_noisynormal_133_1306759619127_B1.wav\n",
      "load file  C:\\Users\\dell\\audio-data\\set-b\\normal_noisynormal_133_1306759619127_C.wav\n",
      "fixing audio lenght : normal_noisynormal_133_1306759619127_C.wav\n",
      "load file  C:\\Users\\dell\\audio-data\\set-b\\normal_noisynormal_133_1306759619127_D1.wav\n",
      "fixing audio lenght : normal_noisynormal_133_1306759619127_D1.wav\n",
      "load file  C:\\Users\\dell\\audio-data\\set-b\\normal_noisynormal_134_1306428161797_B1.wav\n",
      "fixing audio lenght : normal_noisynormal_134_1306428161797_B1.wav\n",
      "load file  C:\\Users\\dell\\audio-data\\set-b\\normal_noisynormal_134_1306428161797_D1.wav\n",
      "fixing audio lenght : normal_noisynormal_134_1306428161797_D1.wav\n",
      "load file  C:\\Users\\dell\\audio-data\\set-b\\normal_noisynormal_136_1306429977501_B.wav\n",
      "fixing audio lenght : normal_noisynormal_136_1306429977501_B.wav\n",
      "load file  C:\\Users\\dell\\audio-data\\set-b\\normal_noisynormal_136_1306429977501_C.wav\n",
      "fixing audio lenght : normal_noisynormal_136_1306429977501_C.wav\n",
      "load file  C:\\Users\\dell\\audio-data\\set-b\\normal_noisynormal_136_1306429977501_D1.wav\n",
      "load file  C:\\Users\\dell\\audio-data\\set-b\\normal_noisynormal_137_1306764999211_A1.wav\n",
      "fixing audio lenght : normal_noisynormal_137_1306764999211_A1.wav\n",
      "load file  C:\\Users\\dell\\audio-data\\set-b\\normal_noisynormal_137_1306764999211_A2.wav\n",
      "fixing audio lenght : normal_noisynormal_137_1306764999211_A2.wav\n",
      "load file  C:\\Users\\dell\\audio-data\\set-b\\normal_noisynormal_137_1306764999211_B.wav\n",
      "fixing audio lenght : normal_noisynormal_137_1306764999211_B.wav\n",
      "load file  C:\\Users\\dell\\audio-data\\set-b\\normal_noisynormal_137_1306764999211_C1.wav\n",
      "fixing audio lenght : normal_noisynormal_137_1306764999211_C1.wav\n",
      "load file  C:\\Users\\dell\\audio-data\\set-b\\normal_noisynormal_137_1306764999211_D1.wav\n",
      "fixing audio lenght : normal_noisynormal_137_1306764999211_D1.wav\n",
      "load file  C:\\Users\\dell\\audio-data\\set-b\\normal_noisynormal_138_1306762146980_A.wav\n",
      "load file  C:\\Users\\dell\\audio-data\\set-b\\normal_noisynormal_138_1306762146980_D.wav\n",
      "fixing audio lenght : normal_noisynormal_138_1306762146980_D.wav\n",
      "load file  C:\\Users\\dell\\audio-data\\set-b\\normal_noisynormal_139_1306519274653_D.wav\n",
      "load file  C:\\Users\\dell\\audio-data\\set-b\\normal_noisynormal_140_1306519735121_C.wav\n",
      "fixing audio lenght : normal_noisynormal_140_1306519735121_C.wav\n",
      "load file  C:\\Users\\dell\\audio-data\\set-b\\normal_noisynormal_141_1306520154450_A1.wav\n",
      "fixing audio lenght : normal_noisynormal_141_1306520154450_A1.wav\n",
      "load file  C:\\Users\\dell\\audio-data\\set-b\\normal_noisynormal_141_1306520154450_B1.wav\n",
      "fixing audio lenght : normal_noisynormal_141_1306520154450_B1.wav\n",
      "load file  C:\\Users\\dell\\audio-data\\set-b\\normal_noisynormal_141_1306520154450_C1.wav\n",
      "fixing audio lenght : normal_noisynormal_141_1306520154450_C1.wav\n",
      "load file  C:\\Users\\dell\\audio-data\\set-b\\normal_noisynormal_142_1306763049574_A.wav\n",
      "load file  C:\\Users\\dell\\audio-data\\set-b\\normal_noisynormal_142_1306763049574_B.wav\n",
      "load file  C:\\Users\\dell\\audio-data\\set-b\\normal_noisynormal_142_1306763049574_D.wav\n",
      "fixing audio lenght : normal_noisynormal_142_1306763049574_D.wav\n",
      "load file  C:\\Users\\dell\\audio-data\\set-b\\normal_noisynormal_143_1306763822290_A.wav\n",
      "load file  C:\\Users\\dell\\audio-data\\set-b\\normal_noisynormal_144_1306522408528_A1.wav\n",
      "fixing audio lenght : normal_noisynormal_144_1306522408528_A1.wav\n",
      "load file  C:\\Users\\dell\\audio-data\\set-b\\normal_noisynormal_144_1306522408528_C.wav\n",
      "fixing audio lenght : normal_noisynormal_144_1306522408528_C.wav\n",
      "load file  C:\\Users\\dell\\audio-data\\set-b\\normal_noisynormal_146_1306778707532_D.wav\n",
      "load file  C:\\Users\\dell\\audio-data\\set-b\\normal_noisynormal_147_1306523973811_B.wav\n",
      "load file  C:\\Users\\dell\\audio-data\\set-b\\normal_noisynormal_149_1306776016110_A.wav\n",
      "load file  C:\\Users\\dell\\audio-data\\set-b\\normal_noisynormal_150_1306776340746_A.wav\n",
      "fixing audio lenght : normal_noisynormal_150_1306776340746_A.wav\n",
      "load file  C:\\Users\\dell\\audio-data\\set-b\\normal_noisynormal_151_1306779785624_C.wav\n",
      "load file  C:\\Users\\dell\\audio-data\\set-b\\normal_noisynormal_154_1306935608852_C.wav\n",
      "fixing audio lenght : normal_noisynormal_154_1306935608852_C.wav\n",
      "load file  C:\\Users\\dell\\audio-data\\set-b\\normal_noisynormal_155_1306935902813_A.wav\n",
      "load file  C:\\Users\\dell\\audio-data\\set-b\\normal_noisynormal_155_1306935902813_C.wav\n",
      "fixing audio lenght : normal_noisynormal_155_1306935902813_C.wav\n",
      "load file  C:\\Users\\dell\\audio-data\\set-b\\normal_noisynormal_157_1306937583792_A.wav\n",
      "fixing audio lenght : normal_noisynormal_157_1306937583792_A.wav\n",
      "load file  C:\\Users\\dell\\audio-data\\set-b\\normal_noisynormal_157_1306937583792_B.wav\n",
      "load file  C:\\Users\\dell\\audio-data\\set-b\\normal_noisynormal_158_1306947254705_B1.wav\n",
      "fixing audio lenght : normal_noisynormal_158_1306947254705_B1.wav\n",
      "load file  C:\\Users\\dell\\audio-data\\set-b\\normal_noisynormal_158_1306947254705_D.wav\n",
      "load file  C:\\Users\\dell\\audio-data\\set-b\\normal_noisynormal_159_1307018640315_A1.wav\n",
      "fixing audio lenght : normal_noisynormal_159_1307018640315_A1.wav\n",
      "load file  C:\\Users\\dell\\audio-data\\set-b\\normal_noisynormal_159_1307018640315_B.wav\n",
      "fixing audio lenght : normal_noisynormal_159_1307018640315_B.wav\n",
      "load file  C:\\Users\\dell\\audio-data\\set-b\\normal_noisynormal_163_1307104470471_D1.wav\n",
      "fixing audio lenght : normal_noisynormal_163_1307104470471_D1.wav\n",
      "load file  C:\\Users\\dell\\audio-data\\set-b\\normal_noisynormal_167_1307111318050_A1.wav\n",
      "fixing audio lenght : normal_noisynormal_167_1307111318050_A1.wav\n",
      "load file  C:\\Users\\dell\\audio-data\\set-b\\normal_noisynormal_167_1307111318050_B.wav\n",
      "fixing audio lenght : normal_noisynormal_167_1307111318050_B.wav\n",
      "load file  C:\\Users\\dell\\audio-data\\set-b\\normal_noisynormal_168_1307970069434_A1.wav\n",
      "fixing audio lenght : normal_noisynormal_168_1307970069434_A1.wav\n",
      "load file  C:\\Users\\dell\\audio-data\\set-b\\normal_noisynormal_169_1307970398039_A.wav\n",
      "fixing audio lenght : normal_noisynormal_169_1307970398039_A.wav\n",
      "load file  C:\\Users\\dell\\audio-data\\set-b\\normal_noisynormal_170_1307970562729_C1.wav\n",
      "fixing audio lenght : normal_noisynormal_170_1307970562729_C1.wav\n",
      "load file  C:\\Users\\dell\\audio-data\\set-b\\normal_noisynormal_172_1307971284351_A.wav\n",
      "fixing audio lenght : normal_noisynormal_172_1307971284351_A.wav\n",
      "load file  C:\\Users\\dell\\audio-data\\set-b\\normal_noisynormal_173_1307973611151_B.wav\n",
      "fixing audio lenght : normal_noisynormal_173_1307973611151_B.wav\n",
      "load file  C:\\Users\\dell\\audio-data\\set-b\\normal_noisynormal_173_1307973611151_C1.wav\n",
      "fixing audio lenght : normal_noisynormal_173_1307973611151_C1.wav\n",
      "load file  C:\\Users\\dell\\audio-data\\set-b\\normal_noisynormal_176_1307988171173_D.wav\n",
      "fixing audio lenght : normal_noisynormal_176_1307988171173_D.wav\n",
      "load file  C:\\Users\\dell\\audio-data\\set-b\\normal_noisynormal_178_1307989887769_B1.wav\n",
      "fixing audio lenght : normal_noisynormal_178_1307989887769_B1.wav\n",
      "load file  C:\\Users\\dell\\audio-data\\set-b\\normal_noisynormal_181_1308052613891_A.wav\n",
      "fixing audio lenght : normal_noisynormal_181_1308052613891_A.wav\n",
      "load file  C:\\Users\\dell\\audio-data\\set-b\\normal_noisynormal_182_1308053371395_B.wav\n",
      "load file  C:\\Users\\dell\\audio-data\\set-b\\normal_noisynormal_188_1308074301731_A.wav\n",
      "load file  C:\\Users\\dell\\audio-data\\set-b\\normal_noisynormal_189_1308075231945_A1.wav\n",
      "fixing audio lenght : normal_noisynormal_189_1308075231945_A1.wav\n",
      "load file  C:\\Users\\dell\\audio-data\\set-b\\normal_noisynormal_194_1308139824187_C.wav\n",
      "fixing audio lenght : normal_noisynormal_194_1308139824187_C.wav\n",
      "load file  C:\\Users\\dell\\audio-data\\set-b\\normal_noisynormal_198_1308141739338_D.wav\n",
      "fixing audio lenght : normal_noisynormal_198_1308141739338_D.wav\n",
      "load file  C:\\Users\\dell\\audio-data\\set-b\\normal_noisynormal_207_1308159792607_D.wav\n",
      "load file  C:\\Users\\dell\\audio-data\\set-b\\normal_noisynormal_216_1308245839516_D.wav\n",
      "load file  C:\\Users\\dell\\audio-data\\set-b\\normal_noisynormal_234_1308748855534_B.wav\n",
      "fixing audio lenght : normal_noisynormal_234_1308748855534_B.wav\n",
      "load file  C:\\Users\\dell\\audio-data\\set-b\\normal_noisynormal_246_1309199278902_D.wav\n",
      "load file  C:\\Users\\dell\\audio-data\\set-b\\normal_noisynormal_258_1309352253234_A.wav\n",
      "load file  C:\\Users\\dell\\audio-data\\set-b\\normal_noisynormal_264_1309356143724_B.wav\n",
      "load file  C:\\Users\\dell\\audio-data\\set-b\\normal_noisynormal_264_1309356143724_C.wav\n",
      "load file  C:\\Users\\dell\\audio-data\\set-b\\normal_noisynormal_264_1309356143724_D.wav\n",
      "load file  C:\\Users\\dell\\audio-data\\set-b\\normal_noisynormal_270_1309369533040_A.wav\n",
      "fixing audio lenght : normal_noisynormal_270_1309369533040_A.wav\n",
      "load file  C:\\Users\\dell\\audio-data\\set-b\\normal_noisynormal_270_1309369533040_B.wav\n",
      "load file  C:\\Users\\dell\\audio-data\\set-b\\normal_noisynormal_271_1309369876160_A.wav\n",
      "load file  C:\\Users\\dell\\audio-data\\set-b\\normal_noisynormal_271_1309369876160_C.wav\n",
      "fixing audio lenght : normal_noisynormal_271_1309369876160_C.wav\n",
      "load file  C:\\Users\\dell\\audio-data\\set-b\\normal_noisynormal_271_1309369876160_D.wav\n",
      "load file  C:\\Users\\dell\\audio-data\\set-b\\normal_noisynormal_278_1311163365896_B.wav\n",
      "load file  C:\\Users\\dell\\audio-data\\set-b\\normal_noisynormal_284_1311168471850_A.wav\n",
      "load file  C:\\Users\\dell\\audio-data\\set-b\\normal_noisynormal_284_1311168471850_B.wav\n",
      "load file  C:\\Users\\dell\\audio-data\\set-b\\normal_noisynormal_285_1311169246969_C.wav\n",
      "fixing audio lenght : normal_noisynormal_285_1311169246969_C.wav\n",
      "load file  C:\\Users\\dell\\audio-data\\set-b\\normal_noisynormal_296_1311682952647_C.wav\n",
      "load file  C:\\Users\\dell\\audio-data\\set-b\\normal_noisynormal_296_1311682952647_D.wav\n",
      "fixing audio lenght : normal_noisynormal_296_1311682952647_D.wav\n",
      "load file  C:\\Users\\dell\\audio-data\\set-b\\normal__103_1305031931979_B.wav\n",
      "fixing audio lenght : normal__103_1305031931979_B.wav\n",
      "load file  C:\\Users\\dell\\audio-data\\set-b\\normal__103_1305031931979_D1.wav\n",
      "fixing audio lenght : normal__103_1305031931979_D1.wav\n",
      "load file  C:\\Users\\dell\\audio-data\\set-b\\normal__103_1305031931979_D2.wav\n",
      "fixing audio lenght : normal__103_1305031931979_D2.wav\n",
      "load file  C:\\Users\\dell\\audio-data\\set-b\\normal__103_1305031931979_D3.wav\n",
      "fixing audio lenght : normal__103_1305031931979_D3.wav\n",
      "load file  C:\\Users\\dell\\audio-data\\set-b\\normal__106_1306776721273_B1.wav\n",
      "fixing audio lenght : normal__106_1306776721273_B1.wav\n",
      "load file  C:\\Users\\dell\\audio-data\\set-b\\normal__106_1306776721273_C1.wav\n",
      "fixing audio lenght : normal__106_1306776721273_C1.wav\n",
      "load file  C:\\Users\\dell\\audio-data\\set-b\\normal__106_1306776721273_C2.wav\n",
      "fixing audio lenght : normal__106_1306776721273_C2.wav\n",
      "load file  C:\\Users\\dell\\audio-data\\set-b\\normal__106_1306776721273_D1.wav\n",
      "fixing audio lenght : normal__106_1306776721273_D1.wav\n",
      "load file  C:\\Users\\dell\\audio-data\\set-b\\normal__106_1306776721273_D2.wav\n",
      "fixing audio lenght : normal__106_1306776721273_D2.wav\n",
      "load file  C:\\Users\\dell\\audio-data\\set-b\\normal__107_1305654946865_C1.wav\n",
      "fixing audio lenght : normal__107_1305654946865_C1.wav\n",
      "load file  C:\\Users\\dell\\audio-data\\set-b\\normal__109_1305653646620_C.wav\n",
      "fixing audio lenght : normal__109_1305653646620_C.wav\n",
      "load file  C:\\Users\\dell\\audio-data\\set-b\\normal__113_1306244002866_D.wav\n",
      "fixing audio lenght : normal__113_1306244002866_D.wav\n",
      "load file  C:\\Users\\dell\\audio-data\\set-b\\normal__115_1306259437619_C.wav\n",
      "fixing audio lenght : normal__115_1306259437619_C.wav\n",
      "load file  C:\\Users\\dell\\audio-data\\set-b\\normal__117_1306262456650_B.wav\n",
      "fixing audio lenght : normal__117_1306262456650_B.wav\n",
      "load file  C:\\Users\\dell\\audio-data\\set-b\\normal__125_1306332456645_B.wav\n",
      "fixing audio lenght : normal__125_1306332456645_B.wav\n",
      "load file  C:\\Users\\dell\\audio-data\\set-b\\normal__126_1306777102824_B.wav\n",
      "fixing audio lenght : normal__126_1306777102824_B.wav\n",
      "load file  C:\\Users\\dell\\audio-data\\set-b\\normal__126_1306777102824_C.wav\n",
      "fixing audio lenght : normal__126_1306777102824_C.wav\n",
      "load file  C:\\Users\\dell\\audio-data\\set-b\\normal__126_1306777102824_D.wav\n",
      "fixing audio lenght : normal__126_1306777102824_D.wav\n",
      "load file  C:\\Users\\dell\\audio-data\\set-b\\normal__127_1306764300147_A.wav\n",
      "fixing audio lenght : normal__127_1306764300147_A.wav\n",
      "load file  C:\\Users\\dell\\audio-data\\set-b\\normal__127_1306764300147_B.wav\n",
      "fixing audio lenght : normal__127_1306764300147_B.wav\n",
      "load file  C:\\Users\\dell\\audio-data\\set-b\\normal__127_1306764300147_C1.wav\n",
      "fixing audio lenght : normal__127_1306764300147_C1.wav\n",
      "load file  C:\\Users\\dell\\audio-data\\set-b\\normal__128_1306344005749_B.wav\n",
      "fixing audio lenght : normal__128_1306344005749_B.wav\n",
      "load file  C:\\Users\\dell\\audio-data\\set-b\\normal__128_1306344005749_D.wav\n",
      "fixing audio lenght : normal__128_1306344005749_D.wav\n",
      "load file  C:\\Users\\dell\\audio-data\\set-b\\normal__128_1306344005749_D1.wav\n",
      "fixing audio lenght : normal__128_1306344005749_D1.wav\n",
      "load file  C:\\Users\\dell\\audio-data\\set-b\\normal__129_1306344506305_B1.wav\n",
      "fixing audio lenght : normal__129_1306344506305_B1.wav\n",
      "load file  C:\\Users\\dell\\audio-data\\set-b\\normal__129_1306344506305_D.wav\n",
      "fixing audio lenght : normal__129_1306344506305_D.wav\n",
      "load file  C:\\Users\\dell\\audio-data\\set-b\\normal__129_1306344506305_D1.wav\n",
      "fixing audio lenght : normal__129_1306344506305_D1.wav\n",
      "load file  C:\\Users\\dell\\audio-data\\set-b\\normal__133_1306759619127_A.wav\n",
      "fixing audio lenght : normal__133_1306759619127_A.wav\n",
      "load file  C:\\Users\\dell\\audio-data\\set-b\\normal__133_1306759619127_B.wav\n",
      "fixing audio lenght : normal__133_1306759619127_B.wav\n",
      "load file  C:\\Users\\dell\\audio-data\\set-b\\normal__133_1306759619127_D.wav\n",
      "fixing audio lenght : normal__133_1306759619127_D.wav\n",
      "load file  C:\\Users\\dell\\audio-data\\set-b\\normal__134_1306428161797_C.wav\n",
      "fixing audio lenght : normal__134_1306428161797_C.wav\n",
      "load file  C:\\Users\\dell\\audio-data\\set-b\\normal__134_1306428161797_C2.wav\n",
      "fixing audio lenght : normal__134_1306428161797_C2.wav\n",
      "load file  C:\\Users\\dell\\audio-data\\set-b\\normal__134_1306428161797_D.wav\n",
      "fixing audio lenght : normal__134_1306428161797_D.wav\n",
      "load file  C:\\Users\\dell\\audio-data\\set-b\\normal__137_1306764999211_C.wav\n",
      "fixing audio lenght : normal__137_1306764999211_C.wav\n",
      "load file  C:\\Users\\dell\\audio-data\\set-b\\normal__137_1306764999211_D.wav\n",
      "fixing audio lenght : normal__137_1306764999211_D.wav\n",
      "load file  C:\\Users\\dell\\audio-data\\set-b\\normal__139_1306519274653_A.wav\n",
      "fixing audio lenght : normal__139_1306519274653_A.wav\n",
      "load file  C:\\Users\\dell\\audio-data\\set-b\\normal__140_1306519735121_A.wav\n",
      "fixing audio lenght : normal__140_1306519735121_A.wav\n",
      "load file  C:\\Users\\dell\\audio-data\\set-b\\normal__140_1306519735121_B.wav\n",
      "fixing audio lenght : normal__140_1306519735121_B.wav\n",
      "load file  C:\\Users\\dell\\audio-data\\set-b\\normal__140_1306519735121_D1.wav\n",
      "fixing audio lenght : normal__140_1306519735121_D1.wav\n",
      "load file  C:\\Users\\dell\\audio-data\\set-b\\normal__141_1306520154450_B.wav\n",
      "fixing audio lenght : normal__141_1306520154450_B.wav\n",
      "load file  C:\\Users\\dell\\audio-data\\set-b\\normal__141_1306520154450_C.wav\n",
      "fixing audio lenght : normal__141_1306520154450_C.wav\n",
      "load file  C:\\Users\\dell\\audio-data\\set-b\\normal__143_1306763822290_B.wav\n",
      "fixing audio lenght : normal__143_1306763822290_B.wav\n",
      "load file  C:\\Users\\dell\\audio-data\\set-b\\normal__143_1306763822290_C.wav\n",
      "fixing audio lenght : normal__143_1306763822290_C.wav\n",
      "load file  C:\\Users\\dell\\audio-data\\set-b\\normal__145_1307987561278_B.wav\n",
      "fixing audio lenght : normal__145_1307987561278_B.wav\n",
      "load file  C:\\Users\\dell\\audio-data\\set-b\\normal__145_1307987561278_C.wav\n",
      "load file  C:\\Users\\dell\\audio-data\\set-b\\normal__146_1306778707532_A.wav\n",
      "fixing audio lenght : normal__146_1306778707532_A.wav\n",
      "load file  C:\\Users\\dell\\audio-data\\set-b\\normal__146_1306778707532_B.wav\n",
      "fixing audio lenght : normal__146_1306778707532_B.wav\n",
      "load file  C:\\Users\\dell\\audio-data\\set-b\\normal__146_1306778707532_D1.wav\n",
      "load file  C:\\Users\\dell\\audio-data\\set-b\\normal__146_1306778707532_D2.wav\n",
      "fixing audio lenght : normal__146_1306778707532_D2.wav\n",
      "load file  C:\\Users\\dell\\audio-data\\set-b\\normal__146_1306778707532_D3.wav\n",
      "fixing audio lenght : normal__146_1306778707532_D3.wav\n",
      "load file  C:\\Users\\dell\\audio-data\\set-b\\normal__146_1306778707532_D4.wav\n",
      "fixing audio lenght : normal__146_1306778707532_D4.wav\n",
      "load file  C:\\Users\\dell\\audio-data\\set-b\\normal__147_1306523973811_A.wav\n",
      "fixing audio lenght : normal__147_1306523973811_A.wav\n",
      "load file  C:\\Users\\dell\\audio-data\\set-b\\normal__147_1306523973811_C.wav\n",
      "fixing audio lenght : normal__147_1306523973811_C.wav\n",
      "load file  C:\\Users\\dell\\audio-data\\set-b\\normal__148_1306768801551_C1.wav\n",
      "fixing audio lenght : normal__148_1306768801551_C1.wav\n",
      "load file  C:\\Users\\dell\\audio-data\\set-b\\normal__148_1306768801551_D2.wav\n",
      "fixing audio lenght : normal__148_1306768801551_D2.wav\n",
      "load file  C:\\Users\\dell\\audio-data\\set-b\\normal__149_1306776016110_B.wav\n",
      "fixing audio lenght : normal__149_1306776016110_B.wav\n",
      "load file  C:\\Users\\dell\\audio-data\\set-b\\normal__149_1306776016110_C1.wav\n",
      "fixing audio lenght : normal__149_1306776016110_C1.wav\n",
      "load file  C:\\Users\\dell\\audio-data\\set-b\\normal__150_1306776340746_B.wav\n",
      "fixing audio lenght : normal__150_1306776340746_B.wav\n",
      "load file  C:\\Users\\dell\\audio-data\\set-b\\normal__150_1306776340746_C.wav\n",
      "load file  C:\\Users\\dell\\audio-data\\set-b\\normal__151_1306779785624_A.wav\n",
      "fixing audio lenght : normal__151_1306779785624_A.wav\n",
      "load file  C:\\Users\\dell\\audio-data\\set-b\\normal__151_1306779785624_D.wav\n",
      "fixing audio lenght : normal__151_1306779785624_D.wav\n",
      "load file  C:\\Users\\dell\\audio-data\\set-b\\normal__152_1306779561195_B1.wav\n",
      "fixing audio lenght : normal__152_1306779561195_B1.wav\n",
      "load file  C:\\Users\\dell\\audio-data\\set-b\\normal__152_1306779561195_C1.wav\n",
      "fixing audio lenght : normal__152_1306779561195_C1.wav\n",
      "load file  C:\\Users\\dell\\audio-data\\set-b\\normal__152_1306779561195_D.wav\n",
      "fixing audio lenght : normal__152_1306779561195_D.wav\n",
      "load file  C:\\Users\\dell\\audio-data\\set-b\\normal__153_1306848820671_A.wav\n",
      "fixing audio lenght : normal__153_1306848820671_A.wav\n",
      "load file  C:\\Users\\dell\\audio-data\\set-b\\normal__153_1306848820671_B.wav\n",
      "fixing audio lenght : normal__153_1306848820671_B.wav\n",
      "load file  C:\\Users\\dell\\audio-data\\set-b\\normal__153_1306848820671_B1.wav\n",
      "fixing audio lenght : normal__153_1306848820671_B1.wav\n",
      "load file  C:\\Users\\dell\\audio-data\\set-b\\normal__153_1306848820671_D1.wav\n",
      "fixing audio lenght : normal__153_1306848820671_D1.wav\n",
      "load file  C:\\Users\\dell\\audio-data\\set-b\\normal__154_1306935608852_A1.wav\n",
      "fixing audio lenght : normal__154_1306935608852_A1.wav\n",
      "load file  C:\\Users\\dell\\audio-data\\set-b\\normal__154_1306935608852_B.wav\n",
      "fixing audio lenght : normal__154_1306935608852_B.wav\n",
      "load file  C:\\Users\\dell\\audio-data\\set-b\\normal__154_1306935608852_B1.wav\n",
      "fixing audio lenght : normal__154_1306935608852_B1.wav\n",
      "load file  C:\\Users\\dell\\audio-data\\set-b\\normal__154_1306935608852_D.wav\n",
      "fixing audio lenght : normal__154_1306935608852_D.wav\n",
      "load file  C:\\Users\\dell\\audio-data\\set-b\\normal__155_1306935902813_B1.wav\n",
      "fixing audio lenght : normal__155_1306935902813_B1.wav\n",
      "load file  C:\\Users\\dell\\audio-data\\set-b\\normal__158_1306947254705_B2.wav\n",
      "fixing audio lenght : normal__158_1306947254705_B2.wav\n",
      "load file  C:\\Users\\dell\\audio-data\\set-b\\normal__159_1307018640315_A.wav\n",
      "fixing audio lenght : normal__159_1307018640315_A.wav\n",
      "load file  C:\\Users\\dell\\audio-data\\set-b\\normal__159_1307018640315_B1.wav\n",
      "fixing audio lenght : normal__159_1307018640315_B1.wav\n",
      "load file  C:\\Users\\dell\\audio-data\\set-b\\normal__159_1307018640315_B2.wav\n",
      "fixing audio lenght : normal__159_1307018640315_B2.wav\n",
      "load file  C:\\Users\\dell\\audio-data\\set-b\\normal__159_1307018640315_C1.wav\n",
      "fixing audio lenght : normal__159_1307018640315_C1.wav\n",
      "load file  C:\\Users\\dell\\audio-data\\set-b\\normal__167_1307111318050_A.wav\n",
      "fixing audio lenght : normal__167_1307111318050_A.wav\n",
      "load file  C:\\Users\\dell\\audio-data\\set-b\\normal__167_1307111318050_C.wav\n",
      "fixing audio lenght : normal__167_1307111318050_C.wav\n",
      "load file  C:\\Users\\dell\\audio-data\\set-b\\normal__168_1307970069434_A.wav\n",
      "fixing audio lenght : normal__168_1307970069434_A.wav\n",
      "load file  C:\\Users\\dell\\audio-data\\set-b\\normal__168_1307970069434_A2.wav\n",
      "fixing audio lenght : normal__168_1307970069434_A2.wav\n",
      "load file  C:\\Users\\dell\\audio-data\\set-b\\normal__169_1307970398039_C.wav\n",
      "fixing audio lenght : normal__169_1307970398039_C.wav\n",
      "load file  C:\\Users\\dell\\audio-data\\set-b\\normal__170_1307970562729_A.wav\n",
      "fixing audio lenght : normal__170_1307970562729_A.wav\n",
      "load file  C:\\Users\\dell\\audio-data\\set-b\\normal__170_1307970562729_B.wav\n",
      "fixing audio lenght : normal__170_1307970562729_B.wav\n",
      "load file  C:\\Users\\dell\\audio-data\\set-b\\normal__170_1307970562729_C.wav\n",
      "fixing audio lenght : normal__170_1307970562729_C.wav\n",
      "load file  C:\\Users\\dell\\audio-data\\set-b\\normal__172_1307971284351_B.wav\n",
      "fixing audio lenght : normal__172_1307971284351_B.wav\n",
      "load file  C:\\Users\\dell\\audio-data\\set-b\\normal__172_1307971284351_B1.wav\n",
      "fixing audio lenght : normal__172_1307971284351_B1.wav\n",
      "load file  C:\\Users\\dell\\audio-data\\set-b\\normal__173_1307973611151_B.wav\n",
      "fixing audio lenght : normal__173_1307973611151_B.wav\n",
      "load file  C:\\Users\\dell\\audio-data\\set-b\\normal__173_1307973611151_C.wav\n",
      "fixing audio lenght : normal__173_1307973611151_C.wav\n",
      "load file  C:\\Users\\dell\\audio-data\\set-b\\normal__174_1307987737137_B.wav\n",
      "fixing audio lenght : normal__174_1307987737137_B.wav\n",
      "load file  C:\\Users\\dell\\audio-data\\set-b\\normal__174_1307987737137_B1.wav\n",
      "fixing audio lenght : normal__174_1307987737137_B1.wav\n",
      "load file  C:\\Users\\dell\\audio-data\\set-b\\normal__175_1307987962616_B.wav\n",
      "fixing audio lenght : normal__175_1307987962616_B.wav\n",
      "load file  C:\\Users\\dell\\audio-data\\set-b\\normal__175_1307987962616_B1.wav\n",
      "fixing audio lenght : normal__175_1307987962616_B1.wav\n",
      "load file  C:\\Users\\dell\\audio-data\\set-b\\normal__175_1307987962616_D.wav\n",
      "fixing audio lenght : normal__175_1307987962616_D.wav\n",
      "load file  C:\\Users\\dell\\audio-data\\set-b\\normal__176_1307988171173_A.wav\n",
      "fixing audio lenght : normal__176_1307988171173_A.wav\n",
      "load file  C:\\Users\\dell\\audio-data\\set-b\\normal__176_1307988171173_B.wav\n",
      "fixing audio lenght : normal__176_1307988171173_B.wav\n",
      "load file  C:\\Users\\dell\\audio-data\\set-b\\normal__176_1307988171173_B1.wav\n",
      "fixing audio lenght : normal__176_1307988171173_B1.wav\n",
      "load file  C:\\Users\\dell\\audio-data\\set-b\\normal__177_1307989650056_A1.wav\n",
      "fixing audio lenght : normal__177_1307989650056_A1.wav\n",
      "load file  C:\\Users\\dell\\audio-data\\set-b\\normal__177_1307989650056_B.wav\n",
      "fixing audio lenght : normal__177_1307989650056_B.wav\n",
      "load file  C:\\Users\\dell\\audio-data\\set-b\\normal__177_1307989650056_D.wav\n",
      "fixing audio lenght : normal__177_1307989650056_D.wav\n",
      "load file  C:\\Users\\dell\\audio-data\\set-b\\normal__177_1307989650056_D1.wav\n",
      "fixing audio lenght : normal__177_1307989650056_D1.wav\n",
      "load file  C:\\Users\\dell\\audio-data\\set-b\\normal__178_1307989887769_B.wav\n",
      "fixing audio lenght : normal__178_1307989887769_B.wav\n",
      "load file  C:\\Users\\dell\\audio-data\\set-b\\normal__178_1307989887769_D.wav\n",
      "load file  C:\\Users\\dell\\audio-data\\set-b\\normal__179_1307990076841_B.wav\n",
      "fixing audio lenght : normal__179_1307990076841_B.wav\n",
      "load file  C:\\Users\\dell\\audio-data\\set-b\\normal__179_1307990076841_D.wav\n",
      "fixing audio lenght : normal__179_1307990076841_D.wav\n",
      "load file  C:\\Users\\dell\\audio-data\\set-b\\normal__180_1307990956284_A.wav\n",
      "fixing audio lenght : normal__180_1307990956284_A.wav\n",
      "load file  C:\\Users\\dell\\audio-data\\set-b\\normal__180_1307990956284_C.wav\n",
      "fixing audio lenght : normal__180_1307990956284_C.wav\n",
      "load file  C:\\Users\\dell\\audio-data\\set-b\\normal__181_1308052613891_B.wav\n",
      "fixing audio lenght : normal__181_1308052613891_B.wav\n",
      "load file  C:\\Users\\dell\\audio-data\\set-b\\normal__181_1308052613891_D.wav\n",
      "fixing audio lenght : normal__181_1308052613891_D.wav\n",
      "load file  C:\\Users\\dell\\audio-data\\set-b\\normal__183_1308072703477_B.wav\n",
      "fixing audio lenght : normal__183_1308072703477_B.wav\n",
      "load file  C:\\Users\\dell\\audio-data\\set-b\\normal__183_1308072703477_C.wav\n",
      "fixing audio lenght : normal__183_1308072703477_C.wav\n",
      "load file  C:\\Users\\dell\\audio-data\\set-b\\normal__184_1308073010307_B.wav\n",
      "load file  C:\\Users\\dell\\audio-data\\set-b\\normal__184_1308073010307_D.wav\n",
      "load file  C:\\Users\\dell\\audio-data\\set-b\\normal__186_1308073648738_C1.wav\n",
      "fixing audio lenght : normal__186_1308073648738_C1.wav\n",
      "load file  C:\\Users\\dell\\audio-data\\set-b\\normal__186_1308073648738_D.wav\n",
      "fixing audio lenght : normal__186_1308073648738_D.wav\n",
      "load file  C:\\Users\\dell\\audio-data\\set-b\\normal__188_1308074301731_C.wav\n",
      "fixing audio lenght : normal__188_1308074301731_C.wav\n",
      "load file  C:\\Users\\dell\\audio-data\\set-b\\normal__188_1308074301731_D.wav\n",
      "fixing audio lenght : normal__188_1308074301731_D.wav\n",
      "load file  C:\\Users\\dell\\audio-data\\set-b\\normal__190_1308076920011_C1.wav\n",
      "fixing audio lenght : normal__190_1308076920011_C1.wav\n",
      "load file  C:\\Users\\dell\\audio-data\\set-b\\normal__190_1308076920011_D.wav\n",
      "fixing audio lenght : normal__190_1308076920011_D.wav\n",
      "load file  C:\\Users\\dell\\audio-data\\set-b\\normal__191_1308077299430_B.wav\n",
      "load file  C:\\Users\\dell\\audio-data\\set-b\\normal__194_1308139824187_A.wav\n",
      "fixing audio lenght : normal__194_1308139824187_A.wav\n",
      "load file  C:\\Users\\dell\\audio-data\\set-b\\normal__194_1308139824187_A1.wav\n",
      "fixing audio lenght : normal__194_1308139824187_A1.wav\n",
      "load file  C:\\Users\\dell\\audio-data\\set-b\\normal__198_1308141739338_C.wav\n",
      "fixing audio lenght : normal__198_1308141739338_C.wav\n",
      "load file  C:\\Users\\dell\\audio-data\\set-b\\normal__201_1308144942432_A.wav\n",
      "fixing audio lenght : normal__201_1308144942432_A.wav\n",
      "load file  C:\\Users\\dell\\audio-data\\set-b\\normal__201_1308144942432_A1.wav\n",
      "fixing audio lenght : normal__201_1308144942432_A1.wav\n",
      "load file  C:\\Users\\dell\\audio-data\\set-b\\normal__202_1308145175747_C.wav\n",
      "fixing audio lenght : normal__202_1308145175747_C.wav\n",
      "load file  C:\\Users\\dell\\audio-data\\set-b\\normal__202_1308145175747_D.wav\n",
      "fixing audio lenght : normal__202_1308145175747_D.wav\n",
      "load file  C:\\Users\\dell\\audio-data\\set-b\\normal__204_1308159229275_C.wav\n",
      "fixing audio lenght : normal__204_1308159229275_C.wav\n",
      "load file  C:\\Users\\dell\\audio-data\\set-b\\normal__204_1308159229275_D.wav\n",
      "fixing audio lenght : normal__204_1308159229275_D.wav\n",
      "load file  C:\\Users\\dell\\audio-data\\set-b\\normal__206_1308159601959_C.wav\n",
      "fixing audio lenght : normal__206_1308159601959_C.wav\n",
      "load file  C:\\Users\\dell\\audio-data\\set-b\\normal__207_1308159792607_C.wav\n",
      "fixing audio lenght : normal__207_1308159792607_C.wav\n",
      "load file  C:\\Users\\dell\\audio-data\\set-b\\normal__208_1308159994503_C.wav\n",
      "fixing audio lenght : normal__208_1308159994503_C.wav\n",
      "load file  C:\\Users\\dell\\audio-data\\set-b\\normal__209_1308162216750_A.wav\n",
      "fixing audio lenght : normal__209_1308162216750_A.wav\n",
      "load file  C:\\Users\\dell\\audio-data\\set-b\\normal__209_1308162216750_A1.wav\n",
      "fixing audio lenght : normal__209_1308162216750_A1.wav\n",
      "load file  C:\\Users\\dell\\audio-data\\set-b\\normal__210_1308162935880_B.wav\n",
      "fixing audio lenght : normal__210_1308162935880_B.wav\n",
      "load file  C:\\Users\\dell\\audio-data\\set-b\\normal__210_1308162935880_B1.wav\n",
      "fixing audio lenght : normal__210_1308162935880_B1.wav\n",
      "load file  C:\\Users\\dell\\audio-data\\set-b\\normal__210_1308162935880_D1.wav\n",
      "fixing audio lenght : normal__210_1308162935880_D1.wav\n",
      "load file  C:\\Users\\dell\\audio-data\\set-b\\normal__210_1308162935880_D2.wav\n",
      "fixing audio lenght : normal__210_1308162935880_D2.wav\n",
      "load file  C:\\Users\\dell\\audio-data\\set-b\\normal__213_1308245263936_C.wav\n",
      "fixing audio lenght : normal__213_1308245263936_C.wav\n",
      "load file  C:\\Users\\dell\\audio-data\\set-b\\normal__214_1308245489717_A.wav\n",
      "fixing audio lenght : normal__214_1308245489717_A.wav\n",
      "load file  C:\\Users\\dell\\audio-data\\set-b\\normal__215_1308245664733_C.wav\n",
      "fixing audio lenght : normal__215_1308245664733_C.wav\n",
      "load file  C:\\Users\\dell\\audio-data\\set-b\\normal__215_1308245664733_C1.wav\n",
      "fixing audio lenght : normal__215_1308245664733_C1.wav\n",
      "load file  C:\\Users\\dell\\audio-data\\set-b\\normal__216_1308245839516_C.wav\n",
      "fixing audio lenght : normal__216_1308245839516_C.wav\n",
      "load file  C:\\Users\\dell\\audio-data\\set-b\\normal__217_1308246111629_C.wav\n",
      "fixing audio lenght : normal__217_1308246111629_C.wav\n",
      "load file  C:\\Users\\dell\\audio-data\\set-b\\normal__217_1308246111629_C1.wav\n",
      "fixing audio lenght : normal__217_1308246111629_C1.wav\n",
      "load file  C:\\Users\\dell\\audio-data\\set-b\\normal__218_1308246311449_C.wav\n",
      "fixing audio lenght : normal__218_1308246311449_C.wav\n",
      "load file  C:\\Users\\dell\\audio-data\\set-b\\normal__218_1308246311449_C1.wav\n",
      "fixing audio lenght : normal__218_1308246311449_C1.wav\n",
      "load file  C:\\Users\\dell\\audio-data\\set-b\\normal__220_1308250132896_C.wav\n",
      "fixing audio lenght : normal__220_1308250132896_C.wav\n",
      "load file  C:\\Users\\dell\\audio-data\\set-b\\normal__220_1308250132896_D.wav\n",
      "fixing audio lenght : normal__220_1308250132896_D.wav\n",
      "load file  C:\\Users\\dell\\audio-data\\set-b\\normal__224_1308337157445_C.wav\n",
      "fixing audio lenght : normal__224_1308337157445_C.wav\n",
      "load file  C:\\Users\\dell\\audio-data\\set-b\\normal__227_1308594233667_B.wav\n",
      "fixing audio lenght : normal__227_1308594233667_B.wav\n",
      "load file  C:\\Users\\dell\\audio-data\\set-b\\normal__227_1308594233667_C.wav\n",
      "fixing audio lenght : normal__227_1308594233667_C.wav\n",
      "load file  C:\\Users\\dell\\audio-data\\set-b\\normal__230_1308595300880_B.wav\n",
      "fixing audio lenght : normal__230_1308595300880_B.wav\n",
      "load file  C:\\Users\\dell\\audio-data\\set-b\\normal__230_1308595300880_C.wav\n",
      "fixing audio lenght : normal__230_1308595300880_C.wav\n",
      "load file  C:\\Users\\dell\\audio-data\\set-b\\normal__232_1308748524018_A.wav\n",
      "fixing audio lenght : normal__232_1308748524018_A.wav\n",
      "load file  C:\\Users\\dell\\audio-data\\set-b\\normal__232_1308748524018_B.wav\n",
      "fixing audio lenght : normal__232_1308748524018_B.wav\n",
      "load file  C:\\Users\\dell\\audio-data\\set-b\\normal__232_1308748524018_B1.wav\n",
      "fixing audio lenght : normal__232_1308748524018_B1.wav\n",
      "load file  C:\\Users\\dell\\audio-data\\set-b\\normal__232_1308748524018_C.wav\n",
      "fixing audio lenght : normal__232_1308748524018_C.wav\n",
      "load file  C:\\Users\\dell\\audio-data\\set-b\\normal__232_1308748524018_D1.wav\n",
      "fixing audio lenght : normal__232_1308748524018_D1.wav\n",
      "load file  C:\\Users\\dell\\audio-data\\set-b\\normal__235_1308749032454_C.wav\n",
      "fixing audio lenght : normal__235_1308749032454_C.wav\n",
      "load file  C:\\Users\\dell\\audio-data\\set-b\\normal__235_1308749032454_D.wav\n",
      "fixing audio lenght : normal__235_1308749032454_D.wav\n",
      "load file  C:\\Users\\dell\\audio-data\\set-b\\normal__237_1308750231222_C.wav\n",
      "fixing audio lenght : normal__237_1308750231222_C.wav\n",
      "load file  C:\\Users\\dell\\audio-data\\set-b\\normal__238_1309194586293_A.wav\n",
      "fixing audio lenght : normal__238_1309194586293_A.wav\n",
      "load file  C:\\Users\\dell\\audio-data\\set-b\\normal__238_1309194586293_B.wav\n",
      "fixing audio lenght : normal__238_1309194586293_B.wav\n",
      "load file  C:\\Users\\dell\\audio-data\\set-b\\normal__250_1309202496494_A.wav\n",
      "fixing audio lenght : normal__250_1309202496494_A.wav\n",
      "load file  C:\\Users\\dell\\audio-data\\set-b\\normal__250_1309202496494_B.wav\n",
      "fixing audio lenght : normal__250_1309202496494_B.wav\n",
      "load file  C:\\Users\\dell\\audio-data\\set-b\\normal__252_1309203336604_B.wav\n",
      "fixing audio lenght : normal__252_1309203336604_B.wav\n",
      "load file  C:\\Users\\dell\\audio-data\\set-b\\normal__256_1309351470137_A.wav\n",
      "fixing audio lenght : normal__256_1309351470137_A.wav\n",
      "load file  C:\\Users\\dell\\audio-data\\set-b\\normal__258_1309352253234_C.wav\n",
      "fixing audio lenght : normal__258_1309352253234_C.wav\n",
      "load file  C:\\Users\\dell\\audio-data\\set-b\\normal__260_1309353164458_C.wav\n",
      "fixing audio lenght : normal__260_1309353164458_C.wav\n",
      "load file  C:\\Users\\dell\\audio-data\\set-b\\normal__261_1309353556003_B.wav\n",
      "fixing audio lenght : normal__261_1309353556003_B.wav\n",
      "load file  C:\\Users\\dell\\audio-data\\set-b\\normal__262_1309355283807_A.wav\n",
      "fixing audio lenght : normal__262_1309355283807_A.wav\n",
      "load file  C:\\Users\\dell\\audio-data\\set-b\\normal__267_1309368735165_A.wav\n",
      "fixing audio lenght : normal__267_1309368735165_A.wav\n",
      "load file  C:\\Users\\dell\\audio-data\\set-b\\normal__270_1309369533040_C.wav\n",
      "fixing audio lenght : normal__270_1309369533040_C.wav\n",
      "load file  C:\\Users\\dell\\audio-data\\set-b\\normal__273_1309370841191_B.wav\n",
      "fixing audio lenght : normal__273_1309370841191_B.wav\n",
      "load file  C:\\Users\\dell\\audio-data\\set-b\\normal__274_1311075637574_A1.wav\n",
      "fixing audio lenght : normal__274_1311075637574_A1.wav\n",
      "load file  C:\\Users\\dell\\audio-data\\set-b\\normal__274_1311075637574_B.wav\n",
      "fixing audio lenght : normal__274_1311075637574_B.wav\n",
      "load file  C:\\Users\\dell\\audio-data\\set-b\\normal__274_1311075637574_B1.wav\n",
      "fixing audio lenght : normal__274_1311075637574_B1.wav\n",
      "load file  C:\\Users\\dell\\audio-data\\set-b\\normal__274_1311075637574_D.wav\n",
      "fixing audio lenght : normal__274_1311075637574_D.wav\n",
      "load file  C:\\Users\\dell\\audio-data\\set-b\\normal__278_1311163365896_A.wav\n",
      "fixing audio lenght : normal__278_1311163365896_A.wav\n",
      "load file  C:\\Users\\dell\\audio-data\\set-b\\normal__278_1311163365896_A1.wav\n",
      "fixing audio lenght : normal__278_1311163365896_A1.wav\n",
      "load file  C:\\Users\\dell\\audio-data\\set-b\\normal__280_1311165195344_A.wav\n",
      "fixing audio lenght : normal__280_1311165195344_A.wav\n",
      "load file  C:\\Users\\dell\\audio-data\\set-b\\normal__282_1311166081161_C.wav\n",
      "fixing audio lenght : normal__282_1311166081161_C.wav\n",
      "load file  C:\\Users\\dell\\audio-data\\set-b\\normal__283_1311167409239_A.wav\n",
      "fixing audio lenght : normal__283_1311167409239_A.wav\n",
      "load file  C:\\Users\\dell\\audio-data\\set-b\\normal__286_1311170606028_A.wav\n",
      "fixing audio lenght : normal__286_1311170606028_A.wav\n",
      "load file  C:\\Users\\dell\\audio-data\\set-b\\normal__286_1311170606028_A1.wav\n",
      "fixing audio lenght : normal__286_1311170606028_A1.wav\n",
      "load file  C:\\Users\\dell\\audio-data\\set-b\\normal__286_1311170606028_B1.wav\n",
      "fixing audio lenght : normal__286_1311170606028_B1.wav\n",
      "load file  C:\\Users\\dell\\audio-data\\set-b\\normal__286_1311170606028_C.wav\n",
      "fixing audio lenght : normal__286_1311170606028_C.wav\n",
      "load file  C:\\Users\\dell\\audio-data\\set-b\\normal__290_1311182875320_A.wav\n",
      "fixing audio lenght : normal__290_1311182875320_A.wav\n",
      "load file  C:\\Users\\dell\\audio-data\\set-b\\normal__291_1311185210672_A.wav\n",
      "fixing audio lenght : normal__291_1311185210672_A.wav\n",
      "load file  C:\\Users\\dell\\audio-data\\set-b\\normal__294_1311681084248_A.wav\n",
      "fixing audio lenght : normal__294_1311681084248_A.wav\n",
      "load file  C:\\Users\\dell\\audio-data\\set-b\\normal__294_1311681084248_B.wav\n",
      "fixing audio lenght : normal__294_1311681084248_B.wav\n",
      "load file  C:\\Users\\dell\\audio-data\\set-b\\normal__294_1311681084248_D1.wav\n",
      "fixing audio lenght : normal__294_1311681084248_D1.wav\n",
      "load file  C:\\Users\\dell\\audio-data\\set-b\\normal__295_1311682673157_D.wav\n",
      "fixing audio lenght : normal__295_1311682673157_D.wav\n",
      "load file  C:\\Users\\dell\\audio-data\\set-b\\normal__296_1311682952647_A1.wav\n",
      "fixing audio lenght : normal__296_1311682952647_A1.wav\n",
      "load file  C:\\Users\\dell\\audio-data\\set-b\\normal__296_1311682952647_A2.wav\n",
      "fixing audio lenght : normal__296_1311682952647_A2.wav\n",
      "load file  C:\\Users\\dell\\audio-data\\set-b\\normal__298_1311685888900_B.wav\n",
      "fixing audio lenght : normal__298_1311685888900_B.wav\n",
      "load file  C:\\Users\\dell\\audio-data\\set-b\\normal__299_1311770522820_C.wav\n",
      "fixing audio lenght : normal__299_1311770522820_C.wav\n",
      "load file  C:\\Users\\dell\\audio-data\\set-b\\normal__300_1311772096120_C1.wav\n",
      "fixing audio lenght : normal__300_1311772096120_C1.wav\n",
      "load file  C:\\Users\\dell\\audio-data\\set-b\\murmur_noisymurmur_135_1306428972976_A.wav\n",
      "fixing audio lenght : murmur_noisymurmur_135_1306428972976_A.wav\n",
      "load file  C:\\Users\\dell\\audio-data\\set-b\\murmur_noisymurmur_135_1306428972976_B.wav\n",
      "fixing audio lenght : murmur_noisymurmur_135_1306428972976_B.wav\n",
      "load file  C:\\Users\\dell\\audio-data\\set-b\\murmur_noisymurmur_135_1306428972976_C.wav\n",
      "load file  C:\\Users\\dell\\audio-data\\set-b\\murmur_noisymurmur_156_1306936373241_A.wav\n",
      "fixing audio lenght : murmur_noisymurmur_156_1306936373241_A.wav\n",
      "load file  C:\\Users\\dell\\audio-data\\set-b\\murmur_noisymurmur_156_1306936373241_B1.wav\n",
      "fixing audio lenght : murmur_noisymurmur_156_1306936373241_B1.wav\n",
      "load file  C:\\Users\\dell\\audio-data\\set-b\\murmur_noisymurmur_160_1307100683334_D.wav\n",
      "fixing audio lenght : murmur_noisymurmur_160_1307100683334_D.wav\n",
      "load file  C:\\Users\\dell\\audio-data\\set-b\\murmur_noisymurmur_161_1307101199321_B.wav\n",
      "fixing audio lenght : murmur_noisymurmur_161_1307101199321_B.wav\n",
      "load file  C:\\Users\\dell\\audio-data\\set-b\\murmur_noisymurmur_161_1307101199321_C.wav\n",
      "load file  C:\\Users\\dell\\audio-data\\set-b\\murmur_noisymurmur_162_1307101835989_B_1.wav\n",
      "fixing audio lenght : murmur_noisymurmur_162_1307101835989_B_1.wav\n",
      "load file  C:\\Users\\dell\\audio-data\\set-b\\murmur_noisymurmur_162_1307101835989_D.wav\n",
      "fixing audio lenght : murmur_noisymurmur_162_1307101835989_D.wav\n",
      "load file  C:\\Users\\dell\\audio-data\\set-b\\murmur_noisymurmur_164_1307106095995_C1.wav\n",
      "fixing audio lenght : murmur_noisymurmur_164_1307106095995_C1.wav\n",
      "load file  C:\\Users\\dell\\audio-data\\set-b\\murmur_noisymurmur_165_1307109069581_A.wav\n",
      "fixing audio lenght : murmur_noisymurmur_165_1307109069581_A.wav\n",
      "load file  C:\\Users\\dell\\audio-data\\set-b\\murmur_noisymurmur_165_1307109069581_C1.wav\n",
      "fixing audio lenght : murmur_noisymurmur_165_1307109069581_C1.wav\n",
      "load file  C:\\Users\\dell\\audio-data\\set-b\\murmur_noisymurmur_165_1307109069581_D.wav\n",
      "fixing audio lenght : murmur_noisymurmur_165_1307109069581_D.wav\n",
      "load file  C:\\Users\\dell\\audio-data\\set-b\\murmur_noisymurmur_171_1307971016233_D.wav\n",
      "fixing audio lenght : murmur_noisymurmur_171_1307971016233_D.wav\n",
      "load file  C:\\Users\\dell\\audio-data\\set-b\\murmur_noisymurmur_171_1307971016233_F.wav\n",
      "fixing audio lenght : murmur_noisymurmur_171_1307971016233_F.wav\n",
      "load file  C:\\Users\\dell\\audio-data\\set-b\\murmur_noisymurmur_185_1308073325396_D.wav\n",
      "fixing audio lenght : murmur_noisymurmur_185_1308073325396_D.wav\n",
      "load file  C:\\Users\\dell\\audio-data\\set-b\\murmur_noisymurmur_200_1308144251434_D.wav\n",
      "fixing audio lenght : murmur_noisymurmur_200_1308144251434_D.wav\n",
      "load file  C:\\Users\\dell\\audio-data\\set-b\\murmur_noisymurmur_231_1308748318393_A.wav\n",
      "fixing audio lenght : murmur_noisymurmur_231_1308748318393_A.wav\n",
      "load file  C:\\Users\\dell\\audio-data\\set-b\\murmur_noisymurmur_240_1309201366049_C.wav\n",
      "fixing audio lenght : murmur_noisymurmur_240_1309201366049_C.wav\n",
      "load file  C:\\Users\\dell\\audio-data\\set-b\\murmur_noisymurmur_240_1309201366049_D.wav\n",
      "load file  C:\\Users\\dell\\audio-data\\set-b\\murmur_noisymurmur_243_1309197760898_B.wav\n",
      "load file  C:\\Users\\dell\\audio-data\\set-b\\murmur_noisymurmur_243_1309197760898_C.wav\n",
      "fixing audio lenght : murmur_noisymurmur_243_1309197760898_C.wav\n",
      "load file  C:\\Users\\dell\\audio-data\\set-b\\murmur_noisymurmur_272_1309370164386_C.wav\n",
      "fixing audio lenght : murmur_noisymurmur_272_1309370164386_C.wav\n",
      "load file  C:\\Users\\dell\\audio-data\\set-b\\murmur_noisymurmur_288_1311164615284_B1.wav\n",
      "fixing audio lenght : murmur_noisymurmur_288_1311164615284_B1.wav\n",
      "load file  C:\\Users\\dell\\audio-data\\set-b\\murmur_noisymurmur_288_1311164615284_C.wav\n",
      "load file  C:\\Users\\dell\\audio-data\\set-b\\murmur_noisymurmur_292_1311185449649_D.wav\n",
      "fixing audio lenght : murmur_noisymurmur_292_1311185449649_D.wav\n",
      "load file  C:\\Users\\dell\\audio-data\\set-b\\murmur_noisymurmur_293_1311680805936_C.wav\n",
      "fixing audio lenght : murmur_noisymurmur_293_1311680805936_C.wav\n",
      "load file  C:\\Users\\dell\\audio-data\\set-b\\murmur_noisymurmur_293_1311680805936_D.wav\n",
      "load file  C:\\Users\\dell\\audio-data\\set-b\\murmur__112_1306243000964_A.wav\n",
      "fixing audio lenght : murmur__112_1306243000964_A.wav\n",
      "load file  C:\\Users\\dell\\audio-data\\set-b\\murmur__112_1306243000964_B.wav\n",
      "load file  C:\\Users\\dell\\audio-data\\set-b\\murmur__112_1306243000964_D.wav\n",
      "load file  C:\\Users\\dell\\audio-data\\set-b\\murmur__116_1306258689913_A.wav\n",
      "fixing audio lenght : murmur__116_1306258689913_A.wav\n",
      "load file  C:\\Users\\dell\\audio-data\\set-b\\murmur__116_1306258689913_C.wav\n",
      "load file  C:\\Users\\dell\\audio-data\\set-b\\murmur__116_1306258689913_D.wav\n",
      "fixing audio lenght : murmur__116_1306258689913_D.wav\n",
      "load file  C:\\Users\\dell\\audio-data\\set-b\\murmur__122_1306325762831_C.wav\n",
      "fixing audio lenght : murmur__122_1306325762831_C.wav\n",
      "load file  C:\\Users\\dell\\audio-data\\set-b\\murmur__122_1306325762831_D.wav\n",
      "load file  C:\\Users\\dell\\audio-data\\set-b\\murmur__156_1306936373241_B.wav\n",
      "fixing audio lenght : murmur__156_1306936373241_B.wav\n",
      "load file  C:\\Users\\dell\\audio-data\\set-b\\murmur__160_1307100683334_A.wav\n",
      "load file  C:\\Users\\dell\\audio-data\\set-b\\murmur__160_1307100683334_B.wav\n",
      "load file  C:\\Users\\dell\\audio-data\\set-b\\murmur__161_1307101199321_A.wav\n",
      "load file  C:\\Users\\dell\\audio-data\\set-b\\murmur__162_1307101835989_A.wav\n",
      "load file  C:\\Users\\dell\\audio-data\\set-b\\murmur__162_1307101835989_B.wav\n",
      "fixing audio lenght : murmur__162_1307101835989_B.wav\n",
      "load file  C:\\Users\\dell\\audio-data\\set-b\\murmur__164_1307106095995_B.wav\n",
      "load file  C:\\Users\\dell\\audio-data\\set-b\\murmur__164_1307106095995_C.wav\n",
      "fixing audio lenght : murmur__164_1307106095995_C.wav\n",
      "load file  C:\\Users\\dell\\audio-data\\set-b\\murmur__165_1307109069581_C.wav\n",
      "fixing audio lenght : murmur__165_1307109069581_C.wav\n",
      "load file  C:\\Users\\dell\\audio-data\\set-b\\murmur__165_1307109069581_C2.wav\n",
      "fixing audio lenght : murmur__165_1307109069581_C2.wav\n",
      "load file  C:\\Users\\dell\\audio-data\\set-b\\murmur__171_1307971016233_D.wav\n",
      "fixing audio lenght : murmur__171_1307971016233_D.wav\n",
      "load file  C:\\Users\\dell\\audio-data\\set-b\\murmur__171_1307971016233_D1.wav\n",
      "fixing audio lenght : murmur__171_1307971016233_D1.wav\n",
      "load file  C:\\Users\\dell\\audio-data\\set-b\\murmur__171_1307971016233_E.wav\n",
      "fixing audio lenght : murmur__171_1307971016233_E.wav\n",
      "load file  C:\\Users\\dell\\audio-data\\set-b\\murmur__185_1308073325396_B.wav\n",
      "fixing audio lenght : murmur__185_1308073325396_B.wav\n",
      "load file  C:\\Users\\dell\\audio-data\\set-b\\murmur__185_1308073325396_C.wav\n",
      "load file  C:\\Users\\dell\\audio-data\\set-b\\murmur__193_1308078104592_B.wav\n",
      "fixing audio lenght : murmur__193_1308078104592_B.wav\n",
      "load file  C:\\Users\\dell\\audio-data\\set-b\\murmur__193_1308078104592_C.wav\n",
      "fixing audio lenght : murmur__193_1308078104592_C.wav\n",
      "load file  C:\\Users\\dell\\audio-data\\set-b\\murmur__193_1308078104592_C1.wav\n",
      "fixing audio lenght : murmur__193_1308078104592_C1.wav\n",
      "load file  C:\\Users\\dell\\audio-data\\set-b\\murmur__195_1308140095331_A.wav\n",
      "fixing audio lenght : murmur__195_1308140095331_A.wav\n",
      "load file  C:\\Users\\dell\\audio-data\\set-b\\murmur__195_1308140095331_C.wav\n",
      "fixing audio lenght : murmur__195_1308140095331_C.wav\n",
      "load file  C:\\Users\\dell\\audio-data\\set-b\\murmur__195_1308140095331_C1.wav\n",
      "fixing audio lenght : murmur__195_1308140095331_C1.wav\n",
      "load file  C:\\Users\\dell\\audio-data\\set-b\\murmur__196_1308141034858_B.wav\n",
      "load file  C:\\Users\\dell\\audio-data\\set-b\\murmur__196_1308141034858_C.wav\n",
      "load file  C:\\Users\\dell\\audio-data\\set-b\\murmur__197_1308141235553_A.wav\n",
      "fixing audio lenght : murmur__197_1308141235553_A.wav\n",
      "load file  C:\\Users\\dell\\audio-data\\set-b\\murmur__197_1308141235553_C.wav\n",
      "fixing audio lenght : murmur__197_1308141235553_C.wav\n",
      "load file  C:\\Users\\dell\\audio-data\\set-b\\murmur__197_1308141235553_D.wav\n",
      "load file  C:\\Users\\dell\\audio-data\\set-b\\murmur__200_1308144251434_C.wav\n",
      "fixing audio lenght : murmur__200_1308144251434_C.wav\n",
      "load file  C:\\Users\\dell\\audio-data\\set-b\\murmur__200_1308144251434_D.wav\n",
      "fixing audio lenght : murmur__200_1308144251434_D.wav\n",
      "load file  C:\\Users\\dell\\audio-data\\set-b\\murmur__203_1308162026258_B.wav\n",
      "fixing audio lenght : murmur__203_1308162026258_B.wav\n",
      "load file  C:\\Users\\dell\\audio-data\\set-b\\murmur__203_1308162026258_C1.wav\n",
      "fixing audio lenght : murmur__203_1308162026258_C1.wav\n",
      "load file  C:\\Users\\dell\\audio-data\\set-b\\murmur__203_1308162026258_D.wav\n",
      "fixing audio lenght : murmur__203_1308162026258_D.wav\n",
      "load file  C:\\Users\\dell\\audio-data\\set-b\\murmur__204_1308159229275_B.wav\n",
      "fixing audio lenght : murmur__204_1308159229275_B.wav\n",
      "load file  C:\\Users\\dell\\audio-data\\set-b\\murmur__211_1308163238707_C.wav\n",
      "fixing audio lenght : murmur__211_1308163238707_C.wav\n",
      "load file  C:\\Users\\dell\\audio-data\\set-b\\murmur__223_1308337062581_D.wav\n",
      "fixing audio lenght : murmur__223_1308337062581_D.wav\n",
      "load file  C:\\Users\\dell\\audio-data\\set-b\\murmur__239_1309195730333_B.wav\n",
      "fixing audio lenght : murmur__239_1309195730333_B.wav\n",
      "load file  C:\\Users\\dell\\audio-data\\set-b\\murmur__239_1309195730333_C.wav\n",
      "fixing audio lenght : murmur__239_1309195730333_C.wav\n",
      "load file  C:\\Users\\dell\\audio-data\\set-b\\murmur__240_1309196119795_B.wav\n",
      "fixing audio lenght : murmur__240_1309196119795_B.wav\n",
      "load file  C:\\Users\\dell\\audio-data\\set-b\\murmur__240_1309196119795_C.wav\n",
      "fixing audio lenght : murmur__240_1309196119795_C.wav\n",
      "load file  C:\\Users\\dell\\audio-data\\set-b\\murmur__240_1309201366049_B.wav\n",
      "fixing audio lenght : murmur__240_1309201366049_B.wav\n",
      "load file  C:\\Users\\dell\\audio-data\\set-b\\murmur__242_1309197394064_B.wav\n",
      "fixing audio lenght : murmur__242_1309197394064_B.wav\n",
      "load file  C:\\Users\\dell\\audio-data\\set-b\\murmur__242_1309197394064_D.wav\n",
      "fixing audio lenght : murmur__242_1309197394064_D.wav\n",
      "load file  C:\\Users\\dell\\audio-data\\set-b\\murmur__244_1309198148498_B.wav\n",
      "fixing audio lenght : murmur__244_1309198148498_B.wav\n",
      "load file  C:\\Users\\dell\\audio-data\\set-b\\murmur__245_1309200438094_B.wav\n",
      "fixing audio lenght : murmur__245_1309200438094_B.wav\n",
      "load file  C:\\Users\\dell\\audio-data\\set-b\\murmur__248_1309201683806_A.wav\n",
      "fixing audio lenght : murmur__248_1309201683806_A.wav\n",
      "load file  C:\\Users\\dell\\audio-data\\set-b\\murmur__248_1309201683806_C.wav\n",
      "fixing audio lenght : murmur__248_1309201683806_C.wav\n",
      "load file  C:\\Users\\dell\\audio-data\\set-b\\murmur__254_1309350589009_A.wav\n",
      "fixing audio lenght : murmur__254_1309350589009_A.wav\n",
      "load file  C:\\Users\\dell\\audio-data\\set-b\\murmur__254_1309350589009_A1.wav\n",
      "fixing audio lenght : murmur__254_1309350589009_A1.wav\n",
      "load file  C:\\Users\\dell\\audio-data\\set-b\\murmur__254_1309350589009_C.wav\n",
      "fixing audio lenght : murmur__254_1309350589009_C.wav\n",
      "load file  C:\\Users\\dell\\audio-data\\set-b\\murmur__254_1309350589009_D.wav\n",
      "fixing audio lenght : murmur__254_1309350589009_D.wav\n",
      "load file  C:\\Users\\dell\\audio-data\\set-b\\murmur__276_1311162716489_C.wav\n",
      "fixing audio lenght : murmur__276_1311162716489_C.wav\n",
      "load file  C:\\Users\\dell\\audio-data\\set-b\\murmur__281_1311165683454_A.wav\n",
      "fixing audio lenght : murmur__281_1311165683454_A.wav\n",
      "load file  C:\\Users\\dell\\audio-data\\set-b\\murmur__281_1311165683454_B.wav\n",
      "fixing audio lenght : murmur__281_1311165683454_B.wav\n",
      "load file  C:\\Users\\dell\\audio-data\\set-b\\murmur__281_1311165683454_D.wav\n",
      "load file  C:\\Users\\dell\\audio-data\\set-b\\murmur__287_1311170903290_C.wav\n",
      "fixing audio lenght : murmur__287_1311170903290_C.wav\n",
      "load file  C:\\Users\\dell\\audio-data\\set-b\\murmur__288_1311164615284_D.wav\n",
      "fixing audio lenght : murmur__288_1311164615284_D.wav\n",
      "load file  C:\\Users\\dell\\audio-data\\set-b\\murmur__292_1311185449649_B.wav\n",
      "fixing audio lenght : murmur__292_1311185449649_B.wav\n",
      "load file  C:\\Users\\dell\\audio-data\\set-b\\murmur__292_1311185449649_C.wav\n",
      "fixing audio lenght : murmur__292_1311185449649_C.wav\n",
      "load file  C:\\Users\\dell\\audio-data\\set-b\\murmur__293_1311680805936_B1.wav\n",
      "fixing audio lenght : murmur__293_1311680805936_B1.wav\n",
      "loaded dataset-b\n"
     ]
    }
   ],
   "source": [
    "A_folder='C:\\\\Users\\\\dell\\\\audio-data\\\\set-a\\\\'\n",
    "# set-a\n",
    "A_artifact_files = fnmatch.filter(os.listdir('C:\\\\Users\\\\dell\\\\audio-data\\\\set-a'), 'artifact*.wav')\n",
    "A_artifact_sounds = load_file_data(folder=A_folder,file_names=A_artifact_files, duration=MAX_SOUND_CLIP_DURATION)\n",
    "A_artifact_labels = ['murmur' for items in A_artifact_files]\n",
    "\n",
    "A_normal_files = fnmatch.filter(os.listdir('C:\\\\Users\\\\dell\\\\audio-data\\\\set-a'), 'normal*.wav')\n",
    "A_normal_sounds = load_file_data(folder=A_folder,file_names=A_normal_files, duration=MAX_SOUND_CLIP_DURATION)\n",
    "A_normal_labels = ['normal' for items in A_normal_sounds]\n",
    "\n",
    "A_murmur_files = fnmatch.filter(os.listdir('C:\\\\Users\\\\dell\\\\audio-data\\\\set-a'), 'murmur*.wav')\n",
    "A_murmur_sounds = load_file_data(folder=A_folder,file_names=A_murmur_files, duration=MAX_SOUND_CLIP_DURATION)\n",
    "A_murmur_labels = ['murmur' for items in A_murmur_files]\n",
    "\n",
    "print (\"loaded dataset-a\")\n",
    "\n",
    "#%%time \n",
    "B_folder='C:\\\\Users\\\\dell\\\\audio-data\\\\set-b\\\\'\n",
    "# set-b\n",
    "B_normal_files = fnmatch.filter(os.listdir('C:\\\\Users\\\\dell\\\\audio-data\\\\set-b'), 'normal*.wav')  # include noisy files\n",
    "B_normal_sounds = load_file_data(folder=B_folder,file_names=B_normal_files, duration=MAX_SOUND_CLIP_DURATION)\n",
    "B_normal_labels = ['normal' for items in B_normal_sounds]\n",
    "\n",
    "B_murmur_files = fnmatch.filter(os.listdir('C:\\\\Users\\\\dell\\\\audio-data\\\\set-b'), 'murmur*.wav')  # include noisy files\n",
    "B_murmur_sounds = load_file_data(folder=B_folder,file_names=B_murmur_files, duration=MAX_SOUND_CLIP_DURATION)\n",
    "B_murmur_labels = ['murmur' for items in B_murmur_files]\n",
    "\n",
    "print (\"loaded dataset-b\")"
   ]
  },
  {
   "cell_type": "code",
   "execution_count": 45,
   "id": "e91db146",
   "metadata": {},
   "outputs": [],
   "source": [
    "x_data = np.concatenate(( A_normal_sounds,A_murmur_sounds,A_artifact_sounds,\n",
    "                         B_normal_sounds,B_murmur_sounds))\n",
    "\n",
    "y_data = np.concatenate((A_normal_labels,A_murmur_labels,A_artifact_labels,\n",
    "                         B_normal_labels,B_murmur_labels))"
   ]
  },
  {
   "cell_type": "code",
   "execution_count": 46,
   "id": "0d2352c6",
   "metadata": {},
   "outputs": [],
   "source": [
    "x_data=np.squeeze(x_data)"
   ]
  },
  {
   "cell_type": "markdown",
   "id": "1217a173",
   "metadata": {},
   "source": [
    "## Spliting the dataset into training and testing"
   ]
  },
  {
   "cell_type": "code",
   "execution_count": 47,
   "id": "9947d4c6",
   "metadata": {},
   "outputs": [],
   "source": [
    "seed = 1000\n",
    "# split data into Train, Validation and Test\n",
    "x_train, x_test, y_train, y_test = train_test_split(x_data, y_data, train_size=0.8, random_state=seed)"
   ]
  },
  {
   "cell_type": "markdown",
   "id": "bf3bdfb3",
   "metadata": {},
   "source": [
    "## Logistic regression algorithm"
   ]
  },
  {
   "cell_type": "code",
   "execution_count": 48,
   "id": "65edcf81",
   "metadata": {},
   "outputs": [
    {
     "name": "stderr",
     "output_type": "stream",
     "text": [
      "c:\\users\\dell\\appdata\\local\\programs\\python\\python39\\lib\\site-packages\\sklearn\\linear_model\\_logistic.py:444: ConvergenceWarning: lbfgs failed to converge (status=1):\n",
      "STOP: TOTAL NO. of ITERATIONS REACHED LIMIT.\n",
      "\n",
      "Increase the number of iterations (max_iter) or scale the data as shown in:\n",
      "    https://scikit-learn.org/stable/modules/preprocessing.html\n",
      "Please also refer to the documentation for alternative solver options:\n",
      "    https://scikit-learn.org/stable/modules/linear_model.html#logistic-regression\n",
      "  n_iter_i = _check_optimize_result(\n"
     ]
    }
   ],
   "source": [
    "from sklearn.linear_model import LogisticRegression\n",
    "logi_reg=LogisticRegression()\n",
    "logi_reg.fit(x_train,y_train)\n",
    "ypred_logi=logi_reg.predict(x_test)"
   ]
  },
  {
   "cell_type": "code",
   "execution_count": 49,
   "id": "7abb63ba",
   "metadata": {},
   "outputs": [
    {
     "name": "stdout",
     "output_type": "stream",
     "text": [
      "logistic regression accuracy= 78.84615384615384\n"
     ]
    }
   ],
   "source": [
    "from sklearn.metrics import accuracy_score,confusion_matrix\n",
    "acc_logi=accuracy_score(y_test,ypred_logi)\n",
    "print(\"logistic regression accuracy=\",acc_logi*100)"
   ]
  },
  {
   "cell_type": "code",
   "execution_count": 50,
   "id": "2c47879f",
   "metadata": {},
   "outputs": [
    {
     "name": "stdout",
     "output_type": "stream",
     "text": [
      "[[17 17]\n",
      " [ 5 65]]\n"
     ]
    }
   ],
   "source": [
    "cm_logi=confusion_matrix(y_test,ypred_logi)\n",
    "print(cm_logi)"
   ]
  },
  {
   "cell_type": "code",
   "execution_count": 51,
   "id": "05b58775",
   "metadata": {},
   "outputs": [
    {
     "data": {
      "text/plain": [
       "<AxesSubplot:>"
      ]
     },
     "execution_count": 51,
     "metadata": {},
     "output_type": "execute_result"
    },
    {
     "data": {
      "image/png": "[encoded data removed]",
      "text/plain": [
       "<Figure size 432x288 with 2 Axes>"
      ]
     },
     "metadata": {
      "needs_background": "light"
     },
     "output_type": "display_data"
    }
   ],
   "source": [
    "import seaborn as sb\n",
    "import matplotlib.pyplot as plt\n",
    "%matplotlib inline\n",
    "sb.heatmap(cm_logi,annot=True)"
   ]
  },
  {
   "cell_type": "code",
   "execution_count": 52,
   "id": "3ab6d716",
   "metadata": {},
   "outputs": [
    {
     "name": "stderr",
     "output_type": "stream",
     "text": [
      "c:\\users\\dell\\appdata\\local\\programs\\python\\python39\\lib\\site-packages\\sklearn\\utils\\deprecation.py:87: FutureWarning: Function plot_roc_curve is deprecated; This will be removed in v0.5.0. Please use scikitplot.metrics.plot_roc instead.\n",
      "  warnings.warn(msg, category=FutureWarning)\n"
     ]
    },
    {
     "data": {
      "text/plain": [
       "<Figure size 432x288 with 0 Axes>"
      ]
     },
     "execution_count": 52,
     "metadata": {},
     "output_type": "execute_result"
    },
    {
     "data": {
      "image/png": "[encoded data removed]",
      "text/plain": [
       "<Figure size 432x288 with 1 Axes>"
      ]
     },
     "metadata": {
      "needs_background": "light"
     },
     "output_type": "display_data"
    },
    {
     "data": {
      "text/plain": [
       "<Figure size 432x288 with 0 Axes>"
      ]
     },
     "metadata": {},
     "output_type": "display_data"
    }
   ],
   "source": [
    "import scikitplot as skplt\n",
    "prob_logi=logi_reg.predict_proba(x_test)\n",
    "skplt.metrics.plot_roc_curve(y_test,prob_logi,curves=(\"each_class\"))\n",
    "plt.figure()"
   ]
  },
  {
   "cell_type": "markdown",
   "id": "83fb4cfd",
   "metadata": {},
   "source": [
    "## Random forest algorithm"
   ]
  },
  {
   "cell_type": "code",
   "execution_count": 53,
   "id": "0093b40a",
   "metadata": {},
   "outputs": [],
   "source": [
    "from sklearn.ensemble import RandomForestClassifier\n",
    "mod_RF=RandomForestClassifier()\n",
    "mod_RF.fit(x_train,y_train)\n",
    "pred_RF=mod_RF.predict(x_test)"
   ]
  },
  {
   "cell_type": "code",
   "execution_count": 54,
   "id": "8aed1b61",
   "metadata": {},
   "outputs": [
    {
     "name": "stdout",
     "output_type": "stream",
     "text": [
      "random forest accuracy= 84.61538461538461\n"
     ]
    }
   ],
   "source": [
    "acc_RF=accuracy_score(y_test,pred_RF)\n",
    "print(\"random forest accuracy=\",acc_RF*100)"
   ]
  },
  {
   "cell_type": "code",
   "execution_count": 55,
   "id": "78547515",
   "metadata": {},
   "outputs": [
    {
     "data": {
      "text/plain": [
       "<AxesSubplot:>"
      ]
     },
     "execution_count": 55,
     "metadata": {},
     "output_type": "execute_result"
    },
    {
     "data": {
      "image/png": "[encoded data removed]",
      "text/plain": [
       "<Figure size 432x288 with 2 Axes>"
      ]
     },
     "metadata": {
      "needs_background": "light"
     },
     "output_type": "display_data"
    }
   ],
   "source": [
    "cm_RF=confusion_matrix(y_test,pred_RF)\n",
    "sb.heatmap(cm_RF,annot=True)"
   ]
  },
  {
   "cell_type": "code",
   "execution_count": 56,
   "id": "5252c468",
   "metadata": {},
   "outputs": [
    {
     "name": "stderr",
     "output_type": "stream",
     "text": [
      "c:\\users\\dell\\appdata\\local\\programs\\python\\python39\\lib\\site-packages\\sklearn\\utils\\deprecation.py:87: FutureWarning: Function plot_roc_curve is deprecated; This will be removed in v0.5.0. Please use scikitplot.metrics.plot_roc instead.\n",
      "  warnings.warn(msg, category=FutureWarning)\n"
     ]
    },
    {
     "data": {
      "text/plain": [
       "<Figure size 432x288 with 0 Axes>"
      ]
     },
     "execution_count": 56,
     "metadata": {},
     "output_type": "execute_result"
    },
    {
     "data": {
      "image/png": "[encoded data removed]",
      "text/plain": [
       "<Figure size 432x288 with 1 Axes>"
      ]
     },
     "metadata": {
      "needs_background": "light"
     },
     "output_type": "display_data"
    },
    {
     "data": {
      "text/plain": [
       "<Figure size 432x288 with 0 Axes>"
      ]
     },
     "metadata": {},
     "output_type": "display_data"
    }
   ],
   "source": [
    "prob_RF=mod_RF.predict_proba(x_test)\n",
    "skplt.metrics.plot_roc_curve(y_test,prob_RF,curves=(\"each_class\"))\n",
    "plt.figure()"
   ]
  },
  {
   "cell_type": "markdown",
   "id": "a0405bca",
   "metadata": {},
   "source": [
    "## Ada-boost algorithm"
   ]
  },
  {
   "cell_type": "code",
   "execution_count": 57,
   "id": "64d0870c",
   "metadata": {},
   "outputs": [
    {
     "name": "stderr",
     "output_type": "stream",
     "text": [
      "c:\\users\\dell\\appdata\\local\\programs\\python\\python39\\lib\\site-packages\\sklearn\\utils\\deprecation.py:87: FutureWarning: Function plot_roc_curve is deprecated; This will be removed in v0.5.0. Please use scikitplot.metrics.plot_roc instead.\n",
      "  warnings.warn(msg, category=FutureWarning)\n"
     ]
    },
    {
     "data": {
      "text/plain": [
       "<Figure size 432x288 with 0 Axes>"
      ]
     },
     "execution_count": 57,
     "metadata": {},
     "output_type": "execute_result"
    },
    {
     "data": {
      "image/png": "[encoded data removed]",
      "text/plain": [
       "<Figure size 432x288 with 2 Axes>"
      ]
     },
     "metadata": {
      "needs_background": "light"
     },
     "output_type": "display_data"
    },
    {
     "data": {
      "image/png": "[encoded data removed]",
      "text/plain": [
       "<Figure size 432x288 with 1 Axes>"
      ]
     },
     "metadata": {
      "needs_background": "light"
     },
     "output_type": "display_data"
    },
    {
     "data": {
      "text/plain": [
       "<Figure size 432x288 with 0 Axes>"
      ]
     },
     "metadata": {},
     "output_type": "display_data"
    }
   ],
   "source": [
    "from sklearn.ensemble import AdaBoostClassifier\n",
    "mod_ada=AdaBoostClassifier()\n",
    "mod_ada.fit(x_train,y_train)\n",
    "pred_ada=mod_ada.predict(x_test)\n",
    "\n",
    "cm_ada=confusion_matrix(y_test,pred_ada)\n",
    "sb.heatmap(cm_ada,annot=True)\n",
    "prob_ada=mod_ada.predict_proba(x_test)\n",
    "skplt.metrics.plot_roc_curve(y_test,prob_ada,curves=(\"each_class\"))\n",
    "plt.figure()"
   ]
  },
  {
   "cell_type": "code",
   "execution_count": 58,
   "id": "1147f03e",
   "metadata": {},
   "outputs": [
    {
     "name": "stdout",
     "output_type": "stream",
     "text": [
      "Ada-boost algorithm accuracy= 79.8076923076923\n"
     ]
    }
   ],
   "source": [
    "acc_ada=accuracy_score(y_test,pred_ada)\n",
    "print(\"Ada-boost algorithm accuracy=\",acc_ada*100)"
   ]
  },
  {
   "cell_type": "markdown",
   "id": "002ad7d2",
   "metadata": {},
   "source": [
    "## Support vector machine algorithm"
   ]
  },
  {
   "cell_type": "code",
   "execution_count": 59,
   "id": "4e1643dc",
   "metadata": {},
   "outputs": [
    {
     "name": "stderr",
     "output_type": "stream",
     "text": [
      "c:\\users\\dell\\appdata\\local\\programs\\python\\python39\\lib\\site-packages\\sklearn\\utils\\deprecation.py:87: FutureWarning: Function plot_roc_curve is deprecated; This will be removed in v0.5.0. Please use scikitplot.metrics.plot_roc instead.\n",
      "  warnings.warn(msg, category=FutureWarning)\n"
     ]
    },
    {
     "data": {
      "text/plain": [
       "<Figure size 432x288 with 0 Axes>"
      ]
     },
     "execution_count": 59,
     "metadata": {},
     "output_type": "execute_result"
    },
    {
     "data": {
      "image/png": "[encoded data removed]",
      "text/plain": [
       "<Figure size 432x288 with 2 Axes>"
      ]
     },
     "metadata": {
      "needs_background": "light"
     },
     "output_type": "display_data"
    },
    {
     "data": {
      "image/png": "[encoded data removed]",
      "text/plain": [
       "<Figure size 432x288 with 1 Axes>"
      ]
     },
     "metadata": {
      "needs_background": "light"
     },
     "output_type": "display_data"
    },
    {
     "data": {
      "text/plain": [
       "<Figure size 432x288 with 0 Axes>"
      ]
     },
     "metadata": {},
     "output_type": "display_data"
    }
   ],
   "source": [
    "from sklearn.svm import SVC\n",
    "mod_svc=SVC(kernel='linear',probability = True)\n",
    "mod_svc.fit(x_train,y_train)\n",
    "pred_svc=mod_svc.predict(x_test)\n",
    "cm_svc=confusion_matrix(y_test,pred_svc)\n",
    "sb.heatmap(cm_svc,annot=True)\n",
    "prob_svc=mod_svc.predict_proba(x_test)\n",
    "skplt.metrics.plot_roc_curve(y_test,prob_svc,curves=(\"each_class\"))\n",
    "plt.figure()"
   ]
  },
  {
   "cell_type": "code",
   "execution_count": 65,
   "id": "609f4456",
   "metadata": {},
   "outputs": [
    {
     "name": "stdout",
     "output_type": "stream",
     "text": [
      "Support vector machine accuracy= 78.84615384615384\n"
     ]
    }
   ],
   "source": [
    "acc_svc=accuracy_score(y_test,pred_svc)\n",
    "print(\"Support vector machine accuracy=\",acc_svc*100)"
   ]
  },
  {
   "cell_type": "code",
   "execution_count": 61,
   "id": "aa74adeb",
   "metadata": {},
   "outputs": [],
   "source": [
    "ACC=pd.DataFrame({'Algorithm':['Logistic Regression', 'Random Forest','Adaboost','SVM'],'Accuracy':[acc_logi*100,acc_RF*100,acc_ada*100,acc_svc*100]},columns=['Algorithm','Accuracy'])\n"
   ]
  },
  {
   "cell_type": "markdown",
   "id": "4302e362",
   "metadata": {},
   "source": [
    "## Accuracy of each algorithm"
   ]
  },
  {
   "cell_type": "code",
   "execution_count": 62,
   "id": "75af49ef",
   "metadata": {},
   "outputs": [
    {
     "data": {
      "text/html": [
       "<div>\n",
       "<style scoped>\n",
       "    .dataframe tbody tr th:only-of-type {\n",
       "        vertical-align: middle;\n",
       "    }\n",
       "\n",
       "    .dataframe tbody tr th {\n",
       "        vertical-align: top;\n",
       "    }\n",
       "\n",
       "    .dataframe thead th {\n",
       "        text-align: right;\n",
       "    }\n",
       "</style>\n",
       "<table border=\"1\" class=\"dataframe\">\n",
       "  <thead>\n",
       "    <tr style=\"text-align: right;\">\n",
       "      <th></th>\n",
       "      <th>Algorithm</th>\n",
       "      <th>Accuracy</th>\n",
       "    </tr>\n",
       "  </thead>\n",
       "  <tbody>\n",
       "    <tr>\n",
       "      <th>0</th>\n",
       "      <td>Logistic Regression</td>\n",
       "      <td>78.846154</td>\n",
       "    </tr>\n",
       "    <tr>\n",
       "      <th>1</th>\n",
       "      <td>Random Forest</td>\n",
       "      <td>84.615385</td>\n",
       "    </tr>\n",
       "    <tr>\n",
       "      <th>2</th>\n",
       "      <td>Adaboost</td>\n",
       "      <td>79.807692</td>\n",
       "    </tr>\n",
       "    <tr>\n",
       "      <th>3</th>\n",
       "      <td>SVM</td>\n",
       "      <td>78.846154</td>\n",
       "    </tr>\n",
       "  </tbody>\n",
       "</table>\n",
       "</div>"
      ],
      "text/plain": [
       "             Algorithm   Accuracy\n",
       "0  Logistic Regression  78.846154\n",
       "1        Random Forest  84.615385\n",
       "2             Adaboost  79.807692\n",
       "3                  SVM  78.846154"
      ]
     },
     "execution_count": 62,
     "metadata": {},
     "output_type": "execute_result"
    }
   ],
   "source": [
    "ACC.head()"
   ]
  },
  {
   "cell_type": "markdown",
   "id": "3aa7b1b0",
   "metadata": {},
   "source": [
    "## feature extraction for the prediction"
   ]
  },
  {
   "cell_type": "code",
   "execution_count": 63,
   "id": "6e8eebca",
   "metadata": {},
   "outputs": [],
   "source": [
    "def features_extractor(file):\n",
    "    audio, sample_rate = librosa.load(file_name, res_type='kaiser_fast') \n",
    "    mfccs_features = librosa.feature.mfcc(y=audio, sr=sample_rate, n_mfcc=40)\n",
    "    mfccs_scaled_features = np.mean(mfccs_features.T,axis=0)\n",
    "\n",
    "    return mfccs_scaled_features"
   ]
  },
  {
   "cell_type": "markdown",
   "id": "a736b9e7",
   "metadata": {},
   "source": [
    "## Prediction of new data"
   ]
  },
  {
   "cell_type": "code",
   "execution_count": 64,
   "id": "bb27f099",
   "metadata": {},
   "outputs": [
    {
     "name": "stdout",
     "output_type": "stream",
     "text": [
      "['normal']\n"
     ]
    }
   ],
   "source": [
    "file_name=\"C:\\\\Users\\\\dell\\\\Desktop\\\\normal.wav\"\n",
    "\n",
    "mfccs = features_extractor(file_name)\n",
    "#print(len(mfccs))\n",
    "prediction=mod_svc.predict(mfccs.reshape(1,-1))\n",
    "print(prediction)"
   ]
  }
 ],
 "metadata": {
  "kernelspec": {
   "display_name": "Python 3 (ipykernel)",
   "language": "python",
   "name": "python3"
  },
  "language_info": {
   "codemirror_mode": {
    "name": "ipython",
    "version": 3
   },
   "file_extension": ".py",
   "mimetype": "text/x-python",
   "name": "python",
   "nbconvert_exporter": "python",
   "pygments_lexer": "ipython3",
   "version": "3.9.0"
  }
 },
 "nbformat": 4,
 "nbformat_minor": 5
}
